{
 "metadata": {
  "name": ""
 },
 "nbformat": 3,
 "nbformat_minor": 0,
 "worksheets": [
  {
   "cells": [
    {
     "cell_type": "code",
     "collapsed": false,
     "input": [
      "import sys\n",
      "from sklearn import hmm\n",
      "from med_data import *\n",
      "from model_list import *\n",
      "from medutils_new import *\n",
      "from model_utils import *\n",
      "import sys\n",
      "import warnings\n",
      "warnings.filterwarnings(\"ignore\", category=DeprecationWarning) \n",
      "overwrite = False\n",
      "random_patient = False\n",
      "verbose = False\n",
      "Npatients = 2000\n",
      "nexpired = Npatients/2\n",
      "nalive = Npatients - nexpired\n",
      "\n",
      "\n",
      "all_vitals = []\n",
      "for m in models:\n",
      "    for v in models[m]['vital_signs_to_use']:\n",
      "        if not v in all_vitals: all_vitals.append(v)\n",
      "\n",
      "\n",
      "def check_patient(patient, vitals_to_use):\n",
      "    for v in vitals_to_use:\n",
      "        if not v in patient.vitals:\n",
      "            if verbose: print \"%s isn't in the patient's list of vital signs...\"%(v)\n",
      "            return False\n",
      "        if len(patient.vitals[v]['time']) < 2: \n",
      "            if verbose: print \"Patient's %s signs are too few\"%(v)\n",
      "            return False\n",
      "    dfs = [ '0.0', '1.0' ]\n",
      "    DF = patient.info['DEATH_FLAG']\n",
      "    \n",
      "    if isnan(float( DF )): \n",
      "        if verbose: print \"Death flag = '%s'\"%(DF)\n",
      "        return False\n",
      "    return True\n",
      "\n",
      "def isalive(patient):\n",
      "\treturn death_class(patient) == 0\n",
      "\n",
      "if overwrite:\n",
      "    print \"Getting alive patients\"\n",
      "    alive_patients = get_n_patients(nalive, all_vitals, \n",
      "                                    condition_function=check_patient, verbose=verbose, pans=np.array(ALIVE_PANS),\n",
      "                                    random=random_patient,overwrite=overwrite)\n",
      "    print \"Getting dead patients\"\n",
      "    expired_patients = get_n_patients(nexpired, all_vitals, \n",
      "                                      condition_function=check_patient, verbose=verbose, pans=np.array(DEAD_PANS),\n",
      "                                      random=random_patient,overwrite=overwrite)\n",
      "\n",
      "\n",
      "for modelname in models:\n",
      "    print \"MODEL: \",modelname\n",
      "    model = models[modelname]\n",
      "    vital_signs_to_use = model['vital_signs_to_use']\n",
      "    NSTATES = model['NSTATES']\n",
      "    NMIXTURES = model['NMIXTURES']\n",
      "    MODEL = model['MODEL']\n",
      "    DT = model['DT']\n",
      "    max_time = model['max_time']\n",
      "    min_time = model['min_time']\n",
      "    do_smoothing = model['do_smoothing']\n",
      "    do_imputation = model['do_imputation']\n",
      "    \n",
      "    print \"Getting alive patients\"\n",
      "    alive_patients = get_n_patients(nalive, vital_signs_to_use, \n",
      "                                    condition_function=check_patient, verbose=verbose, pans=np.array(ALIVE_PANS),\n",
      "                                    random=random_patient)\n",
      "    print \"Getting dead patients\"\n",
      "    expired_patients = get_n_patients(nexpired, vital_signs_to_use, \n",
      "                                      condition_function=check_patient, verbose=verbose, pans=np.array(DEAD_PANS),\n",
      "                                      random=random_patient)\n",
      "    \n",
      "    \n",
      "    all_obs = []\n",
      "    all_classes = []\n",
      "    \n",
      "    for selected_patients in [ alive_patients, expired_patients ]:\n",
      "        if not min_time is None:\n",
      "            pruned_patients = []\n",
      "            for p in selected_patients:\n",
      "                if check_patient(p,vital_signs_to_use): pruned_patients.append(p)\n",
      "            print len(selected_patients) - len(pruned_patients),\" patients pruned.\"\n",
      "            selected_patients = [ p for p in pruned_patients ]\n",
      "            cut_early_times(selected_patients, vital_signs_to_use, min_time)\n",
      "            pruned_patients = []\n",
      "            for p in selected_patients:\n",
      "                if check_patient(p,vital_signs_to_use): pruned_patients.append(p)\n",
      "            print len(selected_patients) - len(pruned_patients),\" patients pruned.\"\n",
      "            selected_patients = [ p for p in pruned_patients ]\n",
      "            \n",
      "        if len(selected_patients) == 0: continue\n",
      "        pruned_again_idunno = []\n",
      "        for s in selected_patients:\n",
      "            bad = False\n",
      "            for v in vital_signs_to_use:\n",
      "                if v not in s.vitals:\n",
      "                    bad = True\n",
      "            if not bad: pruned_again_idunno.append(s)\n",
      "        selected_patients = [ p for p in pruned_again_idunno ] \n",
      "        if do_smoothing:\n",
      "            print \"Smoothing\"\n",
      "            smooth_vitals(selected_patients, vital_signs_to_use, dt= DT)\n",
      "    \n",
      "        if do_imputation:\n",
      "            print \"Imputing\"\n",
      "            impute_missing_values(selected_patients, vital_signs_to_use)\n",
      "        print \"Getting obs/classes\"\n",
      "        observations, classes = observations_and_classes(selected_patients, vital_signs_to_use)\n",
      "        all_obs.extend(observations)\n",
      "        all_classes.extend(classes)\n",
      "    all_obs = [  np.array(a) for a in all_obs ]\n",
      "    if len(all_obs) == 0: continue\n",
      "    should_continue = False\n",
      "    for a in all_obs:\n",
      "        if len(a) == 0: \n",
      "            should_continue = True\n",
      "            break\n",
      "    if should_continue: continue\n",
      "    try:\n",
      "        MODEL.fit(all_obs)\n",
      "    except:\n",
      "        continue\n",
      "    statenames = np.arange(0,NSTATES)\n",
      "    \n",
      "    all_dstf = [ ]\n",
      "    all_astf = [ ]\n",
      "    for i in range(NSTATES):\n",
      "        all_dstf.append([])\n",
      "        all_astf.append([])\n",
      "    \n",
      "    death_state_freqs = np.zeros(NSTATES)\n",
      "    alive_state_freqs = np.zeros(NSTATES)\n",
      "    \n",
      "    death_state_freqs_std = np.zeros(NSTATES)\n",
      "    alive_state_freqs_std = np.zeros(NSTATES)\n",
      "    \n",
      "    for o,c in zip(all_obs,all_classes):\n",
      "        states = MODEL.predict(o)\n",
      "        for i in range(0,NSTATES):\n",
      "            frq = float(len([ s for s in states if s == statenames[i] ]))/float(len(states))\n",
      "            if c == 1:\n",
      "                all_dstf[i].append(frq)\n",
      "            else:\n",
      "                all_astf[i].append(frq)\n",
      "    \n",
      "    for i in range(NSTATES):\n",
      "        death_state_freqs[i] = np.mean(all_dstf[i])\n",
      "        death_state_freqs_std[i] = sqrt(np.mean(np.power(np.array(all_dstf[i]) - death_state_freqs[i],2)))\n",
      "    \n",
      "        alive_state_freqs[i] = np.mean(all_astf[i])\n",
      "        alive_state_freqs_std[i] = sqrt(np.mean(np.power(np.array(all_astf[i]) - alive_state_freqs[i],2)))\n",
      "    figname_eps = \"%s_frqs.eps\"%(modelname)\n",
      "    figname_png = \"%s_frqs.png\"%(modelname)\n",
      "    width = 0.35\n",
      "    f = plt.figure()\n",
      "    ax = f.add_subplot(111)\n",
      "    inds = np.arange(0,NSTATES)\n",
      "    alive_bar = ax.bar(inds - width, alive_state_freqs, width, color='g', alpha=0.5)\n",
      "    dead_bar = ax.bar(inds, death_state_freqs, width, color='r',alpha=0.5)\n",
      "    ax.set_xlabel(\"State\")\n",
      "    ax.set_ylabel(\"Frequency\")\n",
      "    if min_time is None:\n",
      "        ax.set_title(\"All time for %d patients\"%(Npatients))\n",
      "    else:\n",
      "        ax.set_title(\"%.1f hrs before end for %d patients\"%(min_time,Npatients))\n",
      "    ax.legend((alive_bar[0],dead_bar[0]), ('Alive', 'Expired'))\n",
      "    ax.set_ylim(0,1)\n",
      "    f.savefig(figname_eps)\n",
      "    f.savefig(figname_png)\n",
      "    plt.show()\n",
      "\n"
     ],
     "language": "python",
     "metadata": {},
     "outputs": [
      {
       "output_type": "stream",
       "stream": "stdout",
       "text": [
        "Getting alive patients\n",
        "Saving patient "
       ]
      },
      {
       "output_type": "stream",
       "stream": "stdout",
       "text": [
        " 267211\n",
        "Saving patient "
       ]
      },
      {
       "output_type": "stream",
       "stream": "stdout",
       "text": [
        " 194239\n",
        "Saving patient "
       ]
      },
      {
       "output_type": "stream",
       "stream": "stdout",
       "text": [
        " 27150\n",
        "Saving patient "
       ]
      },
      {
       "output_type": "stream",
       "stream": "stdout",
       "text": [
        " 366526\n",
        "Saving patient "
       ]
      },
      {
       "output_type": "stream",
       "stream": "stdout",
       "text": [
        " 34498\n",
        "Saving patient "
       ]
      },
      {
       "output_type": "stream",
       "stream": "stdout",
       "text": [
        " 251607\n",
        "Saving patient "
       ]
      },
      {
       "output_type": "stream",
       "stream": "stdout",
       "text": [
        " 138993\n",
        "Saving patient "
       ]
      },
      {
       "output_type": "stream",
       "stream": "stdout",
       "text": [
        " 268439\n",
        "Saving patient "
       ]
      },
      {
       "output_type": "stream",
       "stream": "stdout",
       "text": [
        " 140171\n",
        "Saving patient "
       ]
      },
      {
       "output_type": "stream",
       "stream": "stdout",
       "text": [
        " 296518\n",
        "Saving patient "
       ]
      },
      {
       "output_type": "stream",
       "stream": "stdout",
       "text": [
        " 76295\n",
        "Saving patient "
       ]
      },
      {
       "output_type": "stream",
       "stream": "stdout",
       "text": [
        " 218970\n",
        "Saving patient "
       ]
      },
      {
       "output_type": "stream",
       "stream": "stdout",
       "text": [
        " 230554\n",
        "Saving patient "
       ]
      },
      {
       "output_type": "stream",
       "stream": "stdout",
       "text": [
        " 140133\n",
        "Saving patient "
       ]
      },
      {
       "output_type": "stream",
       "stream": "stdout",
       "text": [
        " 34278\n",
        "Saving patient "
       ]
      },
      {
       "output_type": "stream",
       "stream": "stdout",
       "text": [
        " 401521\n",
        "Saving patient "
       ]
      },
      {
       "output_type": "stream",
       "stream": "stdout",
       "text": [
        " 438108\n",
        "Saving patient "
       ]
      },
      {
       "output_type": "stream",
       "stream": "stdout",
       "text": [
        " 171786\n",
        "Saving patient "
       ]
      },
      {
       "output_type": "stream",
       "stream": "stdout",
       "text": [
        " 334128\n",
        "Saving patient "
       ]
      },
      {
       "output_type": "stream",
       "stream": "stdout",
       "text": [
        " 339274\n",
        "Saving patient "
       ]
      },
      {
       "output_type": "stream",
       "stream": "stdout",
       "text": [
        " 33956\n",
        "Saving patient "
       ]
      },
      {
       "output_type": "stream",
       "stream": "stdout",
       "text": [
        " 230285\n",
        "Saving patient "
       ]
      },
      {
       "output_type": "stream",
       "stream": "stdout",
       "text": [
        " 363967\n",
        "Saving patient "
       ]
      },
      {
       "output_type": "stream",
       "stream": "stdout",
       "text": [
        " 237945\n",
        "Saving patient "
       ]
      },
      {
       "output_type": "stream",
       "stream": "stdout",
       "text": [
        " 262643\n",
        "Saving patient "
       ]
      },
      {
       "output_type": "stream",
       "stream": "stdout",
       "text": [
        " 226933\n",
        "Saving patient "
       ]
      },
      {
       "output_type": "stream",
       "stream": "stdout",
       "text": [
        " 193625\n",
        "Saving patient "
       ]
      },
      {
       "output_type": "stream",
       "stream": "stdout",
       "text": [
        " 262939\n",
        "Saving patient "
       ]
      },
      {
       "output_type": "stream",
       "stream": "stdout",
       "text": [
        " 453760\n",
        "Saving patient "
       ]
      },
      {
       "output_type": "stream",
       "stream": "stdout",
       "text": [
        " 176438\n",
        "Saving patient "
       ]
      },
      {
       "output_type": "stream",
       "stream": "stdout",
       "text": [
        " 400541\n",
        "Saving patient "
       ]
      },
      {
       "output_type": "stream",
       "stream": "stdout",
       "text": [
        " 269385\n",
        "Saving patient "
       ]
      },
      {
       "output_type": "stream",
       "stream": "stdout",
       "text": [
        " 63462\n",
        "Saving patient "
       ]
      },
      {
       "output_type": "stream",
       "stream": "stdout",
       "text": [
        " 207049\n",
        "Saving patient "
       ]
      },
      {
       "output_type": "stream",
       "stream": "stdout",
       "text": [
        " 31860\n",
        "Saving patient "
       ]
      },
      {
       "output_type": "stream",
       "stream": "stdout",
       "text": [
        " 138042\n",
        "Saving patient "
       ]
      },
      {
       "output_type": "stream",
       "stream": "stdout",
       "text": [
        " 200851\n",
        "Saving patient "
       ]
      },
      {
       "output_type": "stream",
       "stream": "stdout",
       "text": [
        " 102129\n",
        "Saving patient "
       ]
      },
      {
       "output_type": "stream",
       "stream": "stdout",
       "text": [
        " 4390\n",
        "Saving patient "
       ]
      },
      {
       "output_type": "stream",
       "stream": "stdout",
       "text": [
        " 413240\n",
        "Saving patient "
       ]
      },
      {
       "output_type": "stream",
       "stream": "stdout",
       "text": [
        " 420805\n",
        "Saving patient "
       ]
      },
      {
       "output_type": "stream",
       "stream": "stdout",
       "text": [
        " 146884\n",
        "Saving patient "
       ]
      },
      {
       "output_type": "stream",
       "stream": "stdout",
       "text": [
        " 35374\n",
        "Saving patient "
       ]
      },
      {
       "output_type": "stream",
       "stream": "stdout",
       "text": [
        " 114251\n",
        "Saving patient "
       ]
      },
      {
       "output_type": "stream",
       "stream": "stdout",
       "text": [
        " 132396\n",
        "Saving patient "
       ]
      },
      {
       "output_type": "stream",
       "stream": "stdout",
       "text": [
        " 172996\n",
        "Saving patient "
       ]
      },
      {
       "output_type": "stream",
       "stream": "stdout",
       "text": [
        " 150097\n",
        "Saving patient "
       ]
      },
      {
       "output_type": "stream",
       "stream": "stdout",
       "text": [
        " 221521\n",
        "Saving patient "
       ]
      },
      {
       "output_type": "stream",
       "stream": "stdout",
       "text": [
        " 140290\n",
        "Saving patient "
       ]
      },
      {
       "output_type": "stream",
       "stream": "stdout",
       "text": [
        " 86489\n",
        "Saving patient "
       ]
      },
      {
       "output_type": "stream",
       "stream": "stdout",
       "text": [
        " 65888\n",
        "Saving patient "
       ]
      },
      {
       "output_type": "stream",
       "stream": "stdout",
       "text": [
        " 269847\n",
        "Saving patient "
       ]
      },
      {
       "output_type": "stream",
       "stream": "stdout",
       "text": [
        " 27736\n",
        "Saving patient "
       ]
      },
      {
       "output_type": "stream",
       "stream": "stdout",
       "text": [
        " 106402\n",
        "Saving patient "
       ]
      },
      {
       "output_type": "stream",
       "stream": "stdout",
       "text": [
        " 423567\n",
        "Saving patient "
       ]
      },
      {
       "output_type": "stream",
       "stream": "stdout",
       "text": [
        " 146576\n",
        "Saving patient "
       ]
      },
      {
       "output_type": "stream",
       "stream": "stdout",
       "text": [
        " 385319\n",
        "Saving patient "
       ]
      },
      {
       "output_type": "stream",
       "stream": "stdout",
       "text": [
        " 422521\n",
        "Saving patient "
       ]
      },
      {
       "output_type": "stream",
       "stream": "stdout",
       "text": [
        " 354458\n",
        "Saving patient "
       ]
      },
      {
       "output_type": "stream",
       "stream": "stdout",
       "text": [
        " 303127\n",
        "Saving patient "
       ]
      },
      {
       "output_type": "stream",
       "stream": "stdout",
       "text": [
        " 370589\n",
        "Saving patient "
       ]
      },
      {
       "output_type": "stream",
       "stream": "stdout",
       "text": [
        " 324436\n",
        "Saving patient "
       ]
      },
      {
       "output_type": "stream",
       "stream": "stdout",
       "text": [
        " 188222\n",
        "Saving patient "
       ]
      },
      {
       "output_type": "stream",
       "stream": "stdout",
       "text": [
        " 431301\n",
        "Saving patient "
       ]
      },
      {
       "output_type": "stream",
       "stream": "stdout",
       "text": [
        " 432257\n",
        "Saving patient "
       ]
      },
      {
       "output_type": "stream",
       "stream": "stdout",
       "text": [
        " 358042\n",
        "Saving patient "
       ]
      },
      {
       "output_type": "stream",
       "stream": "stdout",
       "text": [
        " 382385\n",
        "Saving patient "
       ]
      },
      {
       "output_type": "stream",
       "stream": "stdout",
       "text": [
        " 390741\n",
        "Saving patient "
       ]
      },
      {
       "output_type": "stream",
       "stream": "stdout",
       "text": [
        " 175084\n",
        "Saving patient "
       ]
      },
      {
       "output_type": "stream",
       "stream": "stdout",
       "text": [
        " 257930\n",
        "Saving patient "
       ]
      },
      {
       "output_type": "stream",
       "stream": "stdout",
       "text": [
        " 201529\n",
        "Saving patient "
       ]
      },
      {
       "output_type": "stream",
       "stream": "stdout",
       "text": [
        " 380122\n",
        "Saving patient "
       ]
      },
      {
       "output_type": "stream",
       "stream": "stdout",
       "text": [
        " 404421\n",
        "Saving patient "
       ]
      },
      {
       "output_type": "stream",
       "stream": "stdout",
       "text": [
        " 325494\n",
        "Saving patient "
       ]
      },
      {
       "output_type": "stream",
       "stream": "stdout",
       "text": [
        " 41284\n",
        "Saving patient "
       ]
      },
      {
       "output_type": "stream",
       "stream": "stdout",
       "text": [
        " 118511\n",
        "Saving patient "
       ]
      },
      {
       "output_type": "stream",
       "stream": "stdout",
       "text": [
        " 270616\n",
        "Saving patient "
       ]
      },
      {
       "output_type": "stream",
       "stream": "stdout",
       "text": [
        " 166108\n",
        "Saving patient "
       ]
      },
      {
       "output_type": "stream",
       "stream": "stdout",
       "text": [
        " 408281\n",
        "Saving patient "
       ]
      },
      {
       "output_type": "stream",
       "stream": "stdout",
       "text": [
        " 346144\n",
        "Saving patient "
       ]
      },
      {
       "output_type": "stream",
       "stream": "stdout",
       "text": [
        " 454343\n",
        "Saving patient "
       ]
      },
      {
       "output_type": "stream",
       "stream": "stdout",
       "text": [
        " 427840\n",
        "Saving patient "
       ]
      },
      {
       "output_type": "stream",
       "stream": "stdout",
       "text": [
        " 158115\n",
        "Saving patient "
       ]
      },
      {
       "output_type": "stream",
       "stream": "stdout",
       "text": [
        " 127730\n",
        "Saving patient "
       ]
      },
      {
       "output_type": "stream",
       "stream": "stdout",
       "text": [
        " 309859\n",
        "Saving patient "
       ]
      },
      {
       "output_type": "stream",
       "stream": "stdout",
       "text": [
        " 43718\n",
        "Saving patient "
       ]
      },
      {
       "output_type": "stream",
       "stream": "stdout",
       "text": [
        " 246784\n",
        "Saving patient "
       ]
      },
      {
       "output_type": "stream",
       "stream": "stdout",
       "text": [
        " 44939\n",
        "Saving patient "
       ]
      },
      {
       "output_type": "stream",
       "stream": "stdout",
       "text": [
        " 227596\n",
        "Saving patient "
       ]
      },
      {
       "output_type": "stream",
       "stream": "stdout",
       "text": [
        " 188139\n",
        "Saving patient "
       ]
      },
      {
       "output_type": "stream",
       "stream": "stdout",
       "text": [
        " 12407\n",
        "Saving patient "
       ]
      },
      {
       "output_type": "stream",
       "stream": "stdout",
       "text": [
        " 4173\n",
        "Saving patient "
       ]
      },
      {
       "output_type": "stream",
       "stream": "stdout",
       "text": [
        " 443432\n",
        "Saving patient "
       ]
      },
      {
       "output_type": "stream",
       "stream": "stdout",
       "text": [
        " 346697\n",
        "Saving patient "
       ]
      },
      {
       "output_type": "stream",
       "stream": "stdout",
       "text": [
        " 89484\n",
        "Saving patient "
       ]
      },
      {
       "output_type": "stream",
       "stream": "stdout",
       "text": [
        " 339365\n",
        "Saving patient "
       ]
      },
      {
       "output_type": "stream",
       "stream": "stdout",
       "text": [
        " 377894\n",
        "Saving patient "
       ]
      },
      {
       "output_type": "stream",
       "stream": "stdout",
       "text": [
        " 244836\n",
        "Saving patient "
       ]
      },
      {
       "output_type": "stream",
       "stream": "stdout",
       "text": [
        " 403487\n",
        "Saving patient "
       ]
      },
      {
       "output_type": "stream",
       "stream": "stdout",
       "text": [
        " 305250\n",
        "Saving patient "
       ]
      },
      {
       "output_type": "stream",
       "stream": "stdout",
       "text": [
        " 10300\n",
        "Saving patient "
       ]
      },
      {
       "output_type": "stream",
       "stream": "stdout",
       "text": [
        " 302595\n",
        "Saving patient "
       ]
      },
      {
       "output_type": "stream",
       "stream": "stdout",
       "text": [
        " 326158\n",
        "Saving patient "
       ]
      },
      {
       "output_type": "stream",
       "stream": "stdout",
       "text": [
        " 377347\n",
        "Saving patient "
       ]
      },
      {
       "output_type": "stream",
       "stream": "stdout",
       "text": [
        " 35521\n",
        "Saving patient "
       ]
      },
      {
       "output_type": "stream",
       "stream": "stdout",
       "text": [
        " 394575\n",
        "Saving patient "
       ]
      },
      {
       "output_type": "stream",
       "stream": "stdout",
       "text": [
        " 204683\n",
        "Saving patient "
       ]
      },
      {
       "output_type": "stream",
       "stream": "stdout",
       "text": [
        " 323364\n",
        "Saving patient "
       ]
      },
      {
       "output_type": "stream",
       "stream": "stdout",
       "text": [
        " 223417\n",
        "Saving patient "
       ]
      },
      {
       "output_type": "stream",
       "stream": "stdout",
       "text": [
        " 18498\n",
        "Saving patient "
       ]
      },
      {
       "output_type": "stream",
       "stream": "stdout",
       "text": [
        " 123735\n",
        "Saving patient "
       ]
      },
      {
       "output_type": "stream",
       "stream": "stdout",
       "text": [
        " 445347\n",
        "Saving patient "
       ]
      },
      {
       "output_type": "stream",
       "stream": "stdout",
       "text": [
        " 11329\n",
        "Saving patient "
       ]
      },
      {
       "output_type": "stream",
       "stream": "stdout",
       "text": [
        " 377159\n",
        "Saving patient "
       ]
      },
      {
       "output_type": "stream",
       "stream": "stdout",
       "text": [
        " 103716\n",
        "Saving patient "
       ]
      },
      {
       "output_type": "stream",
       "stream": "stdout",
       "text": [
        " 276151\n",
        "Saving patient "
       ]
      },
      {
       "output_type": "stream",
       "stream": "stdout",
       "text": [
        " 121082\n",
        "Saving patient "
       ]
      },
      {
       "output_type": "stream",
       "stream": "stdout",
       "text": [
        " 15097\n",
        "Saving patient "
       ]
      },
      {
       "output_type": "stream",
       "stream": "stdout",
       "text": [
        " 288876\n",
        "Saving patient "
       ]
      },
      {
       "output_type": "stream",
       "stream": "stdout",
       "text": [
        " 380431\n",
        "Saving patient "
       ]
      },
      {
       "output_type": "stream",
       "stream": "stdout",
       "text": [
        " 223122\n",
        "Saving patient "
       ]
      },
      {
       "output_type": "stream",
       "stream": "stdout",
       "text": [
        " 18329\n",
        "Saving patient "
       ]
      },
      {
       "output_type": "stream",
       "stream": "stdout",
       "text": [
        " 157741\n",
        "Saving patient "
       ]
      },
      {
       "output_type": "stream",
       "stream": "stdout",
       "text": [
        " 306839\n",
        "Saving patient "
       ]
      },
      {
       "output_type": "stream",
       "stream": "stdout",
       "text": [
        " 315823\n",
        "Saving patient "
       ]
      },
      {
       "output_type": "stream",
       "stream": "stdout",
       "text": [
        " 183094\n",
        "Saving patient "
       ]
      },
      {
       "output_type": "stream",
       "stream": "stdout",
       "text": [
        " 341649\n",
        "Saving patient "
       ]
      },
      {
       "output_type": "stream",
       "stream": "stdout",
       "text": [
        " 147909\n",
        "Saving patient "
       ]
      },
      {
       "output_type": "stream",
       "stream": "stdout",
       "text": [
        " 314847\n",
        "Saving patient "
       ]
      },
      {
       "output_type": "stream",
       "stream": "stdout",
       "text": [
        " 327879\n",
        "Saving patient "
       ]
      },
      {
       "output_type": "stream",
       "stream": "stdout",
       "text": [
        " 152867\n",
        "Saving patient "
       ]
      },
      {
       "output_type": "stream",
       "stream": "stdout",
       "text": [
        " 208503\n",
        "Saving patient "
       ]
      },
      {
       "output_type": "stream",
       "stream": "stdout",
       "text": [
        " 142043\n",
        "Saving patient "
       ]
      },
      {
       "output_type": "stream",
       "stream": "stdout",
       "text": [
        " 184814\n",
        "Saving patient "
       ]
      },
      {
       "output_type": "stream",
       "stream": "stdout",
       "text": [
        " 232330\n",
        "Saving patient "
       ]
      },
      {
       "output_type": "stream",
       "stream": "stdout",
       "text": [
        " 12333\n",
        "Saving patient "
       ]
      },
      {
       "output_type": "stream",
       "stream": "stdout",
       "text": [
        " 317727\n",
        "Saving patient "
       ]
      },
      {
       "output_type": "stream",
       "stream": "stdout",
       "text": [
        " 384754\n",
        "Saving patient "
       ]
      },
      {
       "output_type": "stream",
       "stream": "stdout",
       "text": [
        " 423639\n",
        "Saving patient "
       ]
      },
      {
       "output_type": "stream",
       "stream": "stdout",
       "text": [
        " 172543\n",
        "Saving patient "
       ]
      },
      {
       "output_type": "stream",
       "stream": "stdout",
       "text": [
        " 98835\n",
        "Saving patient "
       ]
      },
      {
       "output_type": "stream",
       "stream": "stdout",
       "text": [
        " 150804\n",
        "Saving patient "
       ]
      },
      {
       "output_type": "stream",
       "stream": "stdout",
       "text": [
        " 456\n",
        "Saving patient "
       ]
      },
      {
       "output_type": "stream",
       "stream": "stdout",
       "text": [
        " 171289\n",
        "Saving patient "
       ]
      },
      {
       "output_type": "stream",
       "stream": "stdout",
       "text": [
        " 227884\n",
        "Saving patient "
       ]
      },
      {
       "output_type": "stream",
       "stream": "stdout",
       "text": [
        " 233761\n",
        "Saving patient "
       ]
      },
      {
       "output_type": "stream",
       "stream": "stdout",
       "text": [
        " 144230\n",
        "Saving patient "
       ]
      },
      {
       "output_type": "stream",
       "stream": "stdout",
       "text": [
        " 189380\n",
        "Saving patient "
       ]
      },
      {
       "output_type": "stream",
       "stream": "stdout",
       "text": [
        " 405493\n",
        "Saving patient "
       ]
      },
      {
       "output_type": "stream",
       "stream": "stdout",
       "text": [
        " 140209\n",
        "Saving patient "
       ]
      },
      {
       "output_type": "stream",
       "stream": "stdout",
       "text": [
        " 191940\n",
        "Saving patient "
       ]
      },
      {
       "output_type": "stream",
       "stream": "stdout",
       "text": [
        " 200832\n",
        "Saving patient "
       ]
      },
      {
       "output_type": "stream",
       "stream": "stdout",
       "text": [
        " 109242\n",
        "Saving patient "
       ]
      },
      {
       "output_type": "stream",
       "stream": "stdout",
       "text": [
        " 63553\n",
        "Saving patient "
       ]
      },
      {
       "output_type": "stream",
       "stream": "stdout",
       "text": [
        " 262068\n",
        "Saving patient "
       ]
      },
      {
       "output_type": "stream",
       "stream": "stdout",
       "text": [
        " 74759\n",
        "Saving patient "
       ]
      },
      {
       "output_type": "stream",
       "stream": "stdout",
       "text": [
        " 80892\n",
        "Saving patient "
       ]
      },
      {
       "output_type": "stream",
       "stream": "stdout",
       "text": [
        " 392678\n",
        "Saving patient "
       ]
      },
      {
       "output_type": "stream",
       "stream": "stdout",
       "text": [
        " 179001\n",
        "Saving patient "
       ]
      },
      {
       "output_type": "stream",
       "stream": "stdout",
       "text": [
        " 328099\n",
        "Saving patient "
       ]
      },
      {
       "output_type": "stream",
       "stream": "stdout",
       "text": [
        " 127324\n",
        "Saving patient "
       ]
      },
      {
       "output_type": "stream",
       "stream": "stdout",
       "text": [
        " 87933\n",
        "Saving patient "
       ]
      },
      {
       "output_type": "stream",
       "stream": "stdout",
       "text": [
        " 442469\n",
        "Saving patient "
       ]
      },
      {
       "output_type": "stream",
       "stream": "stdout",
       "text": [
        " 166806\n",
        "Saving patient "
       ]
      },
      {
       "output_type": "stream",
       "stream": "stdout",
       "text": [
        " 348756\n",
        "Saving patient "
       ]
      },
      {
       "output_type": "stream",
       "stream": "stdout",
       "text": [
        " 295708\n",
        "Saving patient "
       ]
      },
      {
       "output_type": "stream",
       "stream": "stdout",
       "text": [
        " 368726\n",
        "Saving patient "
       ]
      },
      {
       "output_type": "stream",
       "stream": "stdout",
       "text": [
        " 29935\n",
        "Saving patient "
       ]
      },
      {
       "output_type": "stream",
       "stream": "stdout",
       "text": [
        " 72874\n",
        "Saving patient "
       ]
      },
      {
       "output_type": "stream",
       "stream": "stdout",
       "text": [
        " 83552\n",
        "Saving patient "
       ]
      },
      {
       "output_type": "stream",
       "stream": "stdout",
       "text": [
        " 411895\n",
        "Saving patient "
       ]
      },
      {
       "output_type": "stream",
       "stream": "stdout",
       "text": [
        " 159049\n",
        "Saving patient "
       ]
      },
      {
       "output_type": "stream",
       "stream": "stdout",
       "text": [
        " 341717\n",
        "Saving patient "
       ]
      },
      {
       "output_type": "stream",
       "stream": "stdout",
       "text": [
        " 81072\n",
        "Saving patient "
       ]
      },
      {
       "output_type": "stream",
       "stream": "stdout",
       "text": [
        " 169726\n",
        "Saving patient "
       ]
      },
      {
       "output_type": "stream",
       "stream": "stdout",
       "text": [
        " 336898\n",
        "Saving patient "
       ]
      },
      {
       "output_type": "stream",
       "stream": "stdout",
       "text": [
        " 91774\n",
        "Saving patient "
       ]
      },
      {
       "output_type": "stream",
       "stream": "stdout",
       "text": [
        " 239266\n",
        "Saving patient "
       ]
      },
      {
       "output_type": "stream",
       "stream": "stdout",
       "text": [
        " 43656\n",
        "Saving patient "
       ]
      },
      {
       "output_type": "stream",
       "stream": "stdout",
       "text": [
        " 364244\n",
        "Saving patient "
       ]
      },
      {
       "output_type": "stream",
       "stream": "stdout",
       "text": [
        " 403449\n",
        "Saving patient "
       ]
      },
      {
       "output_type": "stream",
       "stream": "stdout",
       "text": [
        " 141367\n",
        "Saving patient "
       ]
      },
      {
       "output_type": "stream",
       "stream": "stdout",
       "text": [
        " 40357\n",
        "Saving patient "
       ]
      },
      {
       "output_type": "stream",
       "stream": "stdout",
       "text": [
        " 131145\n",
        "Saving patient "
       ]
      },
      {
       "output_type": "stream",
       "stream": "stdout",
       "text": [
        " 285371\n",
        "Saving patient "
       ]
      },
      {
       "output_type": "stream",
       "stream": "stdout",
       "text": [
        " 63647\n",
        "Saving patient "
       ]
      },
      {
       "output_type": "stream",
       "stream": "stdout",
       "text": [
        " 140444\n",
        "Saving patient "
       ]
      },
      {
       "output_type": "stream",
       "stream": "stdout",
       "text": [
        " 46801\n",
        "Saving patient "
       ]
      },
      {
       "output_type": "stream",
       "stream": "stdout",
       "text": [
        " 410828\n",
        "Saving patient "
       ]
      },
      {
       "output_type": "stream",
       "stream": "stdout",
       "text": [
        " 106328\n",
        "Saving patient "
       ]
      },
      {
       "output_type": "stream",
       "stream": "stdout",
       "text": [
        " 426194\n",
        "Saving patient "
       ]
      },
      {
       "output_type": "stream",
       "stream": "stdout",
       "text": [
        " 102319\n",
        "Saving patient "
       ]
      },
      {
       "output_type": "stream",
       "stream": "stdout",
       "text": [
        " 331540\n",
        "Saving patient "
       ]
      },
      {
       "output_type": "stream",
       "stream": "stdout",
       "text": [
        " 414695\n",
        "Saving patient "
       ]
      },
      {
       "output_type": "stream",
       "stream": "stdout",
       "text": [
        " 273896\n",
        "Saving patient "
       ]
      },
      {
       "output_type": "stream",
       "stream": "stdout",
       "text": [
        " 226738\n",
        "Saving patient "
       ]
      },
      {
       "output_type": "stream",
       "stream": "stdout",
       "text": [
        " 56077\n",
        "Saving patient "
       ]
      },
      {
       "output_type": "stream",
       "stream": "stdout",
       "text": [
        " 241058\n",
        "Saving patient "
       ]
      },
      {
       "output_type": "stream",
       "stream": "stdout",
       "text": [
        " 128472\n",
        "Saving patient "
       ]
      },
      {
       "output_type": "stream",
       "stream": "stdout",
       "text": [
        " 127157\n",
        "Saving patient "
       ]
      },
      {
       "output_type": "stream",
       "stream": "stdout",
       "text": [
        " 402927\n",
        "Saving patient "
       ]
      },
      {
       "output_type": "stream",
       "stream": "stdout",
       "text": [
        " 173095\n",
        "Saving patient "
       ]
      },
      {
       "output_type": "stream",
       "stream": "stdout",
       "text": [
        " 7149\n",
        "Saving patient "
       ]
      },
      {
       "output_type": "stream",
       "stream": "stdout",
       "text": [
        " 182761\n",
        "Saving patient "
       ]
      },
      {
       "output_type": "stream",
       "stream": "stdout",
       "text": [
        " 335907\n",
        "Saving patient "
       ]
      },
      {
       "output_type": "stream",
       "stream": "stdout",
       "text": [
        " 193412\n",
        "Saving patient "
       ]
      },
      {
       "output_type": "stream",
       "stream": "stdout",
       "text": [
        " 81528\n",
        "Saving patient "
       ]
      },
      {
       "output_type": "stream",
       "stream": "stdout",
       "text": [
        " 287169\n",
        "Saving patient "
       ]
      },
      {
       "output_type": "stream",
       "stream": "stdout",
       "text": [
        " 88112\n",
        "Saving patient "
       ]
      },
      {
       "output_type": "stream",
       "stream": "stdout",
       "text": [
        " 24903\n",
        "Saving patient "
       ]
      },
      {
       "output_type": "stream",
       "stream": "stdout",
       "text": [
        " 202295\n",
        "Saving patient "
       ]
      },
      {
       "output_type": "stream",
       "stream": "stdout",
       "text": [
        " 211725\n",
        "Saving patient "
       ]
      },
      {
       "output_type": "stream",
       "stream": "stdout",
       "text": [
        " 267187\n",
        "Saving patient "
       ]
      },
      {
       "output_type": "stream",
       "stream": "stdout",
       "text": [
        " 56192\n",
        "Saving patient "
       ]
      },
      {
       "output_type": "stream",
       "stream": "stdout",
       "text": [
        " 218764\n",
        "Saving patient "
       ]
      },
      {
       "output_type": "stream",
       "stream": "stdout",
       "text": [
        " 379036\n",
        "Saving patient "
       ]
      },
      {
       "output_type": "stream",
       "stream": "stdout",
       "text": [
        " 303383\n",
        "Saving patient "
       ]
      },
      {
       "output_type": "stream",
       "stream": "stdout",
       "text": [
        " 146188\n",
        "Saving patient "
       ]
      },
      {
       "output_type": "stream",
       "stream": "stdout",
       "text": [
        " 220906\n",
        "Saving patient "
       ]
      },
      {
       "output_type": "stream",
       "stream": "stdout",
       "text": [
        " 353794\n",
        "Saving patient "
       ]
      },
      {
       "output_type": "stream",
       "stream": "stdout",
       "text": [
        " 263843\n",
        "Saving patient "
       ]
      },
      {
       "output_type": "stream",
       "stream": "stdout",
       "text": [
        " 222860\n",
        "Saving patient "
       ]
      },
      {
       "output_type": "stream",
       "stream": "stdout",
       "text": [
        " 190696\n",
        "Saving patient "
       ]
      },
      {
       "output_type": "stream",
       "stream": "stdout",
       "text": [
        " 437814\n",
        "Saving patient "
       ]
      },
      {
       "output_type": "stream",
       "stream": "stdout",
       "text": [
        " 416759\n",
        "Saving patient "
       ]
      },
      {
       "output_type": "stream",
       "stream": "stdout",
       "text": [
        " 58981\n",
        "Saving patient "
       ]
      },
      {
       "output_type": "stream",
       "stream": "stdout",
       "text": [
        " 374797\n",
        "Saving patient "
       ]
      },
      {
       "output_type": "stream",
       "stream": "stdout",
       "text": [
        " 139356\n",
        "Saving patient "
       ]
      },
      {
       "output_type": "stream",
       "stream": "stdout",
       "text": [
        " 24487\n",
        "Saving patient "
       ]
      },
      {
       "output_type": "stream",
       "stream": "stdout",
       "text": [
        " 272307\n",
        "Saving patient "
       ]
      },
      {
       "output_type": "stream",
       "stream": "stdout",
       "text": [
        " 325160\n",
        "Saving patient "
       ]
      },
      {
       "output_type": "stream",
       "stream": "stdout",
       "text": [
        " 135530\n",
        "Saving patient "
       ]
      },
      {
       "output_type": "stream",
       "stream": "stdout",
       "text": [
        " 447008\n",
        "Saving patient "
       ]
      },
      {
       "output_type": "stream",
       "stream": "stdout",
       "text": [
        " 94326\n",
        "Saving patient "
       ]
      },
      {
       "output_type": "stream",
       "stream": "stdout",
       "text": [
        " 292975\n",
        "Saving patient "
       ]
      },
      {
       "output_type": "stream",
       "stream": "stdout",
       "text": [
        " 381077\n",
        "Saving patient "
       ]
      },
      {
       "output_type": "stream",
       "stream": "stdout",
       "text": [
        " 286927\n",
        "Saving patient "
       ]
      },
      {
       "output_type": "stream",
       "stream": "stdout",
       "text": [
        " 346592\n",
        "Saving patient "
       ]
      },
      {
       "output_type": "stream",
       "stream": "stdout",
       "text": [
        " 203964\n",
        "Saving patient "
       ]
      },
      {
       "output_type": "stream",
       "stream": "stdout",
       "text": [
        " 290963\n",
        "Saving patient "
       ]
      },
      {
       "output_type": "stream",
       "stream": "stdout",
       "text": [
        " 178926\n",
        "Saving patient "
       ]
      },
      {
       "output_type": "stream",
       "stream": "stdout",
       "text": [
        " 218171\n",
        "Saving patient "
       ]
      },
      {
       "output_type": "stream",
       "stream": "stdout",
       "text": [
        " 77457\n",
        "Saving patient "
       ]
      },
      {
       "output_type": "stream",
       "stream": "stdout",
       "text": [
        " 404011\n",
        "Saving patient "
       ]
      },
      {
       "output_type": "stream",
       "stream": "stdout",
       "text": [
        " 272050\n",
        "Saving patient "
       ]
      },
      {
       "output_type": "stream",
       "stream": "stdout",
       "text": [
        " 188857\n",
        "Saving patient "
       ]
      },
      {
       "output_type": "stream",
       "stream": "stdout",
       "text": [
        " 343637\n",
        "Saving patient "
       ]
      },
      {
       "output_type": "stream",
       "stream": "stdout",
       "text": [
        " 418944\n",
        "Saving patient "
       ]
      },
      {
       "output_type": "stream",
       "stream": "stdout",
       "text": [
        " 281248\n",
        "Saving patient "
       ]
      },
      {
       "output_type": "stream",
       "stream": "stdout",
       "text": [
        " 84257\n",
        "Saving patient "
       ]
      },
      {
       "output_type": "stream",
       "stream": "stdout",
       "text": [
        " 17081\n",
        "Saving patient "
       ]
      },
      {
       "output_type": "stream",
       "stream": "stdout",
       "text": [
        " 375143\n",
        "Saving patient "
       ]
      },
      {
       "output_type": "stream",
       "stream": "stdout",
       "text": [
        " 323038\n",
        "Saving patient "
       ]
      },
      {
       "output_type": "stream",
       "stream": "stdout",
       "text": [
        " 446326\n",
        "Saving patient "
       ]
      },
      {
       "output_type": "stream",
       "stream": "stdout",
       "text": [
        " 135553\n",
        "Saving patient "
       ]
      },
      {
       "output_type": "stream",
       "stream": "stdout",
       "text": [
        " 287555\n",
        "Saving patient "
       ]
      },
      {
       "output_type": "stream",
       "stream": "stdout",
       "text": [
        " 147661\n",
        "Saving patient "
       ]
      },
      {
       "output_type": "stream",
       "stream": "stdout",
       "text": [
        " 113679\n",
        "Saving patient "
       ]
      },
      {
       "output_type": "stream",
       "stream": "stdout",
       "text": [
        " 263402\n",
        "Saving patient "
       ]
      },
      {
       "output_type": "stream",
       "stream": "stdout",
       "text": [
        " 140702\n",
        "Saving patient "
       ]
      },
      {
       "output_type": "stream",
       "stream": "stdout",
       "text": [
        " 332490\n",
        "Saving patient "
       ]
      },
      {
       "output_type": "stream",
       "stream": "stdout",
       "text": [
        " 127448\n",
        "Saving patient "
       ]
      },
      {
       "output_type": "stream",
       "stream": "stdout",
       "text": [
        " 78712\n",
        "Saving patient "
       ]
      },
      {
       "output_type": "stream",
       "stream": "stdout",
       "text": [
        " 244858\n",
        "Saving patient "
       ]
      },
      {
       "output_type": "stream",
       "stream": "stdout",
       "text": [
        " 81452\n",
        "Saving patient "
       ]
      },
      {
       "output_type": "stream",
       "stream": "stdout",
       "text": [
        " 351828\n",
        "Saving patient "
       ]
      },
      {
       "output_type": "stream",
       "stream": "stdout",
       "text": [
        " 93635\n",
        "Saving patient "
       ]
      },
      {
       "output_type": "stream",
       "stream": "stdout",
       "text": [
        " 308034\n",
        "Saving patient "
       ]
      },
      {
       "output_type": "stream",
       "stream": "stdout",
       "text": [
        " 415425\n",
        "Saving patient "
       ]
      },
      {
       "output_type": "stream",
       "stream": "stdout",
       "text": [
        " 63445\n",
        "Saving patient "
       ]
      },
      {
       "output_type": "stream",
       "stream": "stdout",
       "text": [
        " 123215\n",
        "Saving patient "
       ]
      },
      {
       "output_type": "stream",
       "stream": "stdout",
       "text": [
        " 179660\n",
        "Saving patient "
       ]
      },
      {
       "output_type": "stream",
       "stream": "stdout",
       "text": [
        " 304647\n",
        "Saving patient "
       ]
      },
      {
       "output_type": "stream",
       "stream": "stdout",
       "text": [
        " 187640\n",
        "Saving patient "
       ]
      },
      {
       "output_type": "stream",
       "stream": "stdout",
       "text": [
        " 301888\n",
        "Saving patient "
       ]
      },
      {
       "output_type": "stream",
       "stream": "stdout",
       "text": [
        " 410516\n",
        "Saving patient "
       ]
      },
      {
       "output_type": "stream",
       "stream": "stdout",
       "text": [
        " 223066\n",
        "Saving patient "
       ]
      },
      {
       "output_type": "stream",
       "stream": "stdout",
       "text": [
        " 23057\n",
        "Saving patient "
       ]
      },
      {
       "output_type": "stream",
       "stream": "stdout",
       "text": [
        " 349917\n",
        "Saving patient "
       ]
      },
      {
       "output_type": "stream",
       "stream": "stdout",
       "text": [
        " 165482\n",
        "Saving patient "
       ]
      },
      {
       "output_type": "stream",
       "stream": "stdout",
       "text": [
        " 162905\n",
        "Saving patient "
       ]
      },
      {
       "output_type": "stream",
       "stream": "stdout",
       "text": [
        " 279878\n",
        "Saving patient "
       ]
      },
      {
       "output_type": "stream",
       "stream": "stdout",
       "text": [
        " 209733\n",
        "Saving patient "
       ]
      },
      {
       "output_type": "stream",
       "stream": "stdout",
       "text": [
        " 406622\n",
        "Saving patient "
       ]
      },
      {
       "output_type": "stream",
       "stream": "stdout",
       "text": [
        " 157331\n",
        "Saving patient "
       ]
      },
      {
       "output_type": "stream",
       "stream": "stdout",
       "text": [
        " 371750\n",
        "Saving patient "
       ]
      },
      {
       "output_type": "stream",
       "stream": "stdout",
       "text": [
        " 382317\n",
        "Saving patient "
       ]
      },
      {
       "output_type": "stream",
       "stream": "stdout",
       "text": [
        " 176415\n",
        "Saving patient "
       ]
      },
      {
       "output_type": "stream",
       "stream": "stdout",
       "text": [
        " 231782\n",
        "Saving patient "
       ]
      },
      {
       "output_type": "stream",
       "stream": "stdout",
       "text": [
        " 317454\n",
        "Saving patient "
       ]
      },
      {
       "output_type": "stream",
       "stream": "stdout",
       "text": [
        " 390999\n",
        "Saving patient "
       ]
      },
      {
       "output_type": "stream",
       "stream": "stdout",
       "text": [
        " 448253\n",
        "Saving patient "
       ]
      },
      {
       "output_type": "stream",
       "stream": "stdout",
       "text": [
        " 298129\n",
        "Saving patient "
       ]
      },
      {
       "output_type": "stream",
       "stream": "stdout",
       "text": [
        " 230430\n",
        "Saving patient "
       ]
      },
      {
       "output_type": "stream",
       "stream": "stdout",
       "text": [
        " 86395\n",
        "Saving patient "
       ]
      },
      {
       "output_type": "stream",
       "stream": "stdout",
       "text": [
        " 163964\n",
        "Saving patient "
       ]
      },
      {
       "output_type": "stream",
       "stream": "stdout",
       "text": [
        " 15380\n",
        "Saving patient "
       ]
      },
      {
       "output_type": "stream",
       "stream": "stdout",
       "text": [
        " 216342\n",
        "Saving patient "
       ]
      },
      {
       "output_type": "stream",
       "stream": "stdout",
       "text": [
        " 191883\n",
        "Saving patient "
       ]
      },
      {
       "output_type": "stream",
       "stream": "stdout",
       "text": [
        " 222743\n",
        "Saving patient "
       ]
      },
      {
       "output_type": "stream",
       "stream": "stdout",
       "text": [
        " 23801\n",
        "Saving patient "
       ]
      },
      {
       "output_type": "stream",
       "stream": "stdout",
       "text": [
        " 63355\n",
        "Saving patient "
       ]
      },
      {
       "output_type": "stream",
       "stream": "stdout",
       "text": [
        " 317236\n",
        "Saving patient "
       ]
      },
      {
       "output_type": "stream",
       "stream": "stdout",
       "text": [
        " 255337\n",
        "Saving patient "
       ]
      },
      {
       "output_type": "stream",
       "stream": "stdout",
       "text": [
        " 359512\n",
        "Saving patient "
       ]
      },
      {
       "output_type": "stream",
       "stream": "stdout",
       "text": [
        " 441249\n",
        "Saving patient "
       ]
      },
      {
       "output_type": "stream",
       "stream": "stdout",
       "text": [
        " 340477\n",
        "Saving patient "
       ]
      },
      {
       "output_type": "stream",
       "stream": "stdout",
       "text": [
        " 383852\n",
        "Saving patient "
       ]
      },
      {
       "output_type": "stream",
       "stream": "stdout",
       "text": [
        " 383087\n",
        "Saving patient "
       ]
      },
      {
       "output_type": "stream",
       "stream": "stdout",
       "text": [
        " 313115\n",
        "Saving patient "
       ]
      },
      {
       "output_type": "stream",
       "stream": "stdout",
       "text": [
        " 274401\n",
        "Saving patient "
       ]
      },
      {
       "output_type": "stream",
       "stream": "stdout",
       "text": [
        " 224504\n",
        "Saving patient "
       ]
      },
      {
       "output_type": "stream",
       "stream": "stdout",
       "text": [
        " 144797\n",
        "Saving patient "
       ]
      },
      {
       "output_type": "stream",
       "stream": "stdout",
       "text": [
        " 445843\n",
        "Saving patient "
       ]
      },
      {
       "output_type": "stream",
       "stream": "stdout",
       "text": [
        " 7224\n",
        "Saving patient "
       ]
      },
      {
       "output_type": "stream",
       "stream": "stdout",
       "text": [
        " 145893\n",
        "Saving patient "
       ]
      },
      {
       "output_type": "stream",
       "stream": "stdout",
       "text": [
        " 188471\n",
        "Saving patient "
       ]
      },
      {
       "output_type": "stream",
       "stream": "stdout",
       "text": [
        " 157772\n",
        "Saving patient "
       ]
      },
      {
       "output_type": "stream",
       "stream": "stdout",
       "text": [
        " 248877\n",
        "Saving patient "
       ]
      },
      {
       "output_type": "stream",
       "stream": "stdout",
       "text": [
        " 231928\n",
        "Saving patient "
       ]
      },
      {
       "output_type": "stream",
       "stream": "stdout",
       "text": [
        " 37599\n",
        "Saving patient "
       ]
      },
      {
       "output_type": "stream",
       "stream": "stdout",
       "text": [
        " 124279\n",
        "Saving patient "
       ]
      },
      {
       "output_type": "stream",
       "stream": "stdout",
       "text": [
        " 153574\n",
        "Saving patient "
       ]
      },
      {
       "output_type": "stream",
       "stream": "stdout",
       "text": [
        " 318185\n",
        "Saving patient "
       ]
      },
      {
       "output_type": "stream",
       "stream": "stdout",
       "text": [
        " 183879\n",
        "Saving patient "
       ]
      },
      {
       "output_type": "stream",
       "stream": "stdout",
       "text": [
        " 193294\n",
        "Saving patient "
       ]
      },
      {
       "output_type": "stream",
       "stream": "stdout",
       "text": [
        " 226609\n",
        "Saving patient "
       ]
      },
      {
       "output_type": "stream",
       "stream": "stdout",
       "text": [
        " 136818\n",
        "Saving patient "
       ]
      },
      {
       "output_type": "stream",
       "stream": "stdout",
       "text": [
        " 226393\n",
        "Saving patient "
       ]
      },
      {
       "output_type": "stream",
       "stream": "stdout",
       "text": [
        " 37165\n",
        "Saving patient "
       ]
      },
      {
       "output_type": "stream",
       "stream": "stdout",
       "text": [
        " 304214\n",
        "Saving patient "
       ]
      },
      {
       "output_type": "stream",
       "stream": "stdout",
       "text": [
        " 67503\n",
        "Saving patient "
       ]
      },
      {
       "output_type": "stream",
       "stream": "stdout",
       "text": [
        " 366545\n",
        "Saving patient "
       ]
      },
      {
       "output_type": "stream",
       "stream": "stdout",
       "text": [
        " 234624\n",
        "Saving patient "
       ]
      },
      {
       "output_type": "stream",
       "stream": "stdout",
       "text": [
        " 407171\n",
        "Saving patient "
       ]
      },
      {
       "output_type": "stream",
       "stream": "stdout",
       "text": [
        " 58171\n",
        "Saving patient "
       ]
      },
      {
       "output_type": "stream",
       "stream": "stdout",
       "text": [
        " 41689\n",
        "Saving patient "
       ]
      },
      {
       "output_type": "stream",
       "stream": "stdout",
       "text": [
        " 311125\n",
        "Saving patient "
       ]
      },
      {
       "output_type": "stream",
       "stream": "stdout",
       "text": [
        " 382878\n",
        "Saving patient "
       ]
      },
      {
       "output_type": "stream",
       "stream": "stdout",
       "text": [
        " 183760\n",
        "Saving patient "
       ]
      },
      {
       "output_type": "stream",
       "stream": "stdout",
       "text": [
        " 272791\n",
        "Saving patient "
       ]
      },
      {
       "output_type": "stream",
       "stream": "stdout",
       "text": [
        " 202023\n",
        "Saving patient "
       ]
      },
      {
       "output_type": "stream",
       "stream": "stdout",
       "text": [
        " 239370\n",
        "Saving patient "
       ]
      },
      {
       "output_type": "stream",
       "stream": "stdout",
       "text": [
        " 128818\n",
        "Saving patient "
       ]
      },
      {
       "output_type": "stream",
       "stream": "stdout",
       "text": [
        " 290257\n",
        "Saving patient "
       ]
      },
      {
       "output_type": "stream",
       "stream": "stdout",
       "text": [
        " 35684\n",
        "Saving patient "
       ]
      },
      {
       "output_type": "stream",
       "stream": "stdout",
       "text": [
        " 209032\n",
        "Saving patient "
       ]
      },
      {
       "output_type": "stream",
       "stream": "stdout",
       "text": [
        " 84972\n",
        "Saving patient "
       ]
      },
      {
       "output_type": "stream",
       "stream": "stdout",
       "text": [
        " 371770\n",
        "Saving patient "
       ]
      },
      {
       "output_type": "stream",
       "stream": "stdout",
       "text": [
        " 17861\n",
        "Saving patient "
       ]
      },
      {
       "output_type": "stream",
       "stream": "stdout",
       "text": [
        " 450300\n",
        "Saving patient "
       ]
      },
      {
       "output_type": "stream",
       "stream": "stdout",
       "text": [
        " 185255\n",
        "Saving patient "
       ]
      },
      {
       "output_type": "stream",
       "stream": "stdout",
       "text": [
        " 221880\n",
        "Saving patient "
       ]
      },
      {
       "output_type": "stream",
       "stream": "stdout",
       "text": [
        " 319105\n",
        "Saving patient "
       ]
      },
      {
       "output_type": "stream",
       "stream": "stdout",
       "text": [
        " 444588\n",
        "Saving patient "
       ]
      },
      {
       "output_type": "stream",
       "stream": "stdout",
       "text": [
        " 412385\n",
        "Saving patient "
       ]
      },
      {
       "output_type": "stream",
       "stream": "stdout",
       "text": [
        " 295655\n",
        "Saving patient "
       ]
      },
      {
       "output_type": "stream",
       "stream": "stdout",
       "text": [
        " 134856\n",
        "Saving patient "
       ]
      },
      {
       "output_type": "stream",
       "stream": "stdout",
       "text": [
        " 373798\n",
        "Saving patient "
       ]
      },
      {
       "output_type": "stream",
       "stream": "stdout",
       "text": [
        " 119086\n",
        "Saving patient "
       ]
      },
      {
       "output_type": "stream",
       "stream": "stdout",
       "text": [
        " 171671\n",
        "Saving patient "
       ]
      },
      {
       "output_type": "stream",
       "stream": "stdout",
       "text": [
        " 93936\n",
        "Saving patient "
       ]
      },
      {
       "output_type": "stream",
       "stream": "stdout",
       "text": [
        " 99541\n",
        "Saving patient "
       ]
      },
      {
       "output_type": "stream",
       "stream": "stdout",
       "text": [
        " 69385\n",
        "Saving patient "
       ]
      },
      {
       "output_type": "stream",
       "stream": "stdout",
       "text": [
        " 284636\n",
        "Saving patient "
       ]
      },
      {
       "output_type": "stream",
       "stream": "stdout",
       "text": [
        " 204206\n",
        "Saving patient "
       ]
      },
      {
       "output_type": "stream",
       "stream": "stdout",
       "text": [
        " 166585\n",
        "Saving patient "
       ]
      },
      {
       "output_type": "stream",
       "stream": "stdout",
       "text": [
        " 34386\n",
        "Saving patient "
       ]
      },
      {
       "output_type": "stream",
       "stream": "stdout",
       "text": [
        " 93284\n",
        "Saving patient "
       ]
      },
      {
       "output_type": "stream",
       "stream": "stdout",
       "text": [
        " 16708\n",
        "Saving patient "
       ]
      },
      {
       "output_type": "stream",
       "stream": "stdout",
       "text": [
        " 427842\n",
        "Saving patient "
       ]
      },
      {
       "output_type": "stream",
       "stream": "stdout",
       "text": [
        " 359913\n",
        "Saving patient "
       ]
      },
      {
       "output_type": "stream",
       "stream": "stdout",
       "text": [
        " 265824\n",
        "Saving patient "
       ]
      },
      {
       "output_type": "stream",
       "stream": "stdout",
       "text": [
        " 394983\n",
        "Saving patient "
       ]
      },
      {
       "output_type": "stream",
       "stream": "stdout",
       "text": [
        " 220181\n",
        "Saving patient "
       ]
      },
      {
       "output_type": "stream",
       "stream": "stdout",
       "text": [
        " 400055\n",
        "Saving patient "
       ]
      },
      {
       "output_type": "stream",
       "stream": "stdout",
       "text": [
        " 280979\n",
        "Saving patient "
       ]
      },
      {
       "output_type": "stream",
       "stream": "stdout",
       "text": [
        " 447482\n",
        "Saving patient "
       ]
      },
      {
       "output_type": "stream",
       "stream": "stdout",
       "text": [
        " 196648\n",
        "Saving patient "
       ]
      },
      {
       "output_type": "stream",
       "stream": "stdout",
       "text": [
        " 41888\n",
        "Saving patient "
       ]
      },
      {
       "output_type": "stream",
       "stream": "stdout",
       "text": [
        " 12053\n",
        "Saving patient "
       ]
      },
      {
       "output_type": "stream",
       "stream": "stdout",
       "text": [
        " 5915\n",
        "Saving patient "
       ]
      },
      {
       "output_type": "stream",
       "stream": "stdout",
       "text": [
        " 188306\n",
        "Saving patient "
       ]
      },
      {
       "output_type": "stream",
       "stream": "stdout",
       "text": [
        " 81351\n",
        "Saving patient "
       ]
      },
      {
       "output_type": "stream",
       "stream": "stdout",
       "text": [
        " 410498\n",
        "Saving patient "
       ]
      },
      {
       "output_type": "stream",
       "stream": "stdout",
       "text": [
        " 443742\n",
        "Saving patient "
       ]
      },
      {
       "output_type": "stream",
       "stream": "stdout",
       "text": [
        " 369854\n",
        "Saving patient "
       ]
      },
      {
       "output_type": "stream",
       "stream": "stdout",
       "text": [
        " 14174\n",
        "Saving patient "
       ]
      },
      {
       "output_type": "stream",
       "stream": "stdout",
       "text": [
        " 384627\n",
        "Saving patient "
       ]
      },
      {
       "output_type": "stream",
       "stream": "stdout",
       "text": [
        " 326981\n",
        "Saving patient "
       ]
      },
      {
       "output_type": "stream",
       "stream": "stdout",
       "text": [
        " 16016\n",
        "Saving patient "
       ]
      },
      {
       "output_type": "stream",
       "stream": "stdout",
       "text": [
        " 130888\n",
        "Saving patient "
       ]
      },
      {
       "output_type": "stream",
       "stream": "stdout",
       "text": [
        " 442209\n",
        "Saving patient "
       ]
      },
      {
       "output_type": "stream",
       "stream": "stdout",
       "text": [
        " 77919\n",
        "Saving patient "
       ]
      },
      {
       "output_type": "stream",
       "stream": "stdout",
       "text": [
        " 325380\n",
        "Saving patient "
       ]
      },
      {
       "output_type": "stream",
       "stream": "stdout",
       "text": [
        " 170836\n",
        "Saving patient "
       ]
      },
      {
       "output_type": "stream",
       "stream": "stdout",
       "text": [
        " 393872\n",
        "Saving patient "
       ]
      },
      {
       "output_type": "stream",
       "stream": "stdout",
       "text": [
        " 424638\n",
        "Saving patient "
       ]
      },
      {
       "output_type": "stream",
       "stream": "stdout",
       "text": [
        " 64220\n",
        "Saving patient "
       ]
      },
      {
       "output_type": "stream",
       "stream": "stdout",
       "text": [
        " 111826\n",
        "Saving patient "
       ]
      },
      {
       "output_type": "stream",
       "stream": "stdout",
       "text": [
        " 191316\n",
        "Saving patient "
       ]
      },
      {
       "output_type": "stream",
       "stream": "stdout",
       "text": [
        " 444573\n",
        "Saving patient "
       ]
      },
      {
       "output_type": "stream",
       "stream": "stdout",
       "text": [
        " 16466\n",
        "Saving patient "
       ]
      },
      {
       "output_type": "stream",
       "stream": "stdout",
       "text": [
        " 452186\n",
        "Saving patient "
       ]
      },
      {
       "output_type": "stream",
       "stream": "stdout",
       "text": [
        " 231335\n",
        "Saving patient "
       ]
      },
      {
       "output_type": "stream",
       "stream": "stdout",
       "text": [
        " 280074\n",
        "Saving patient "
       ]
      },
      {
       "output_type": "stream",
       "stream": "stdout",
       "text": [
        " 142332\n",
        "Saving patient "
       ]
      },
      {
       "output_type": "stream",
       "stream": "stdout",
       "text": [
        " 22004\n",
        "Saving patient "
       ]
      },
      {
       "output_type": "stream",
       "stream": "stdout",
       "text": [
        " 8953\n",
        "Saving patient "
       ]
      },
      {
       "output_type": "stream",
       "stream": "stdout",
       "text": [
        " 281925\n",
        "Saving patient "
       ]
      },
      {
       "output_type": "stream",
       "stream": "stdout",
       "text": [
        " 189729\n",
        "Saving patient "
       ]
      },
      {
       "output_type": "stream",
       "stream": "stdout",
       "text": [
        " 182907\n",
        "Saving patient "
       ]
      },
      {
       "output_type": "stream",
       "stream": "stdout",
       "text": [
        " 77582\n",
        "Saving patient "
       ]
      },
      {
       "output_type": "stream",
       "stream": "stdout",
       "text": [
        " 47941\n",
        "Saving patient "
       ]
      },
      {
       "output_type": "stream",
       "stream": "stdout",
       "text": [
        " 380053\n",
        "Saving patient "
       ]
      },
      {
       "output_type": "stream",
       "stream": "stdout",
       "text": [
        " 129843\n",
        "Saving patient "
       ]
      },
      {
       "output_type": "stream",
       "stream": "stdout",
       "text": [
        " 350710\n",
        "Saving patient "
       ]
      },
      {
       "output_type": "stream",
       "stream": "stdout",
       "text": [
        " 206157\n",
        "Saving patient "
       ]
      },
      {
       "output_type": "stream",
       "stream": "stdout",
       "text": [
        " 64246\n",
        "Saving patient "
       ]
      },
      {
       "output_type": "stream",
       "stream": "stdout",
       "text": [
        " 186078\n",
        "Saving patient "
       ]
      },
      {
       "output_type": "stream",
       "stream": "stdout",
       "text": [
        " 155233\n",
        "Saving patient "
       ]
      },
      {
       "output_type": "stream",
       "stream": "stdout",
       "text": [
        " 391985\n",
        "Saving patient "
       ]
      },
      {
       "output_type": "stream",
       "stream": "stdout",
       "text": [
        " 452083\n",
        "Saving patient "
       ]
      },
      {
       "output_type": "stream",
       "stream": "stdout",
       "text": [
        " 286719\n",
        "Saving patient "
       ]
      },
      {
       "output_type": "stream",
       "stream": "stdout",
       "text": [
        " 194998\n",
        "Saving patient "
       ]
      },
      {
       "output_type": "stream",
       "stream": "stdout",
       "text": [
        " 69660\n",
        "Saving patient "
       ]
      },
      {
       "output_type": "stream",
       "stream": "stdout",
       "text": [
        " 343672\n",
        "Saving patient "
       ]
      },
      {
       "output_type": "stream",
       "stream": "stdout",
       "text": [
        " 444466\n",
        "Saving patient "
       ]
      },
      {
       "output_type": "stream",
       "stream": "stdout",
       "text": [
        " 9268\n",
        "Saving patient "
       ]
      },
      {
       "output_type": "stream",
       "stream": "stdout",
       "text": [
        " 374182\n",
        "Saving patient "
       ]
      },
      {
       "output_type": "stream",
       "stream": "stdout",
       "text": [
        " 263834\n",
        "Saving patient "
       ]
      },
      {
       "output_type": "stream",
       "stream": "stdout",
       "text": [
        " 211441\n",
        "Saving patient "
       ]
      },
      {
       "output_type": "stream",
       "stream": "stdout",
       "text": [
        " 424609\n",
        "Saving patient "
       ]
      },
      {
       "output_type": "stream",
       "stream": "stdout",
       "text": [
        " 78258\n",
        "Saving patient "
       ]
      },
      {
       "output_type": "stream",
       "stream": "stdout",
       "text": [
        " 323889\n",
        "Saving patient "
       ]
      },
      {
       "output_type": "stream",
       "stream": "stdout",
       "text": [
        " 231661\n",
        "Saving patient "
       ]
      },
      {
       "output_type": "stream",
       "stream": "stdout",
       "text": [
        " 208351\n",
        "Saving patient "
       ]
      },
      {
       "output_type": "stream",
       "stream": "stdout",
       "text": [
        " 267094\n",
        "Saving patient "
       ]
      },
      {
       "output_type": "stream",
       "stream": "stdout",
       "text": [
        " 55277\n",
        "Saving patient "
       ]
      },
      {
       "output_type": "stream",
       "stream": "stdout",
       "text": [
        " 261113\n",
        "Saving patient "
       ]
      },
      {
       "output_type": "stream",
       "stream": "stdout",
       "text": [
        " 406770\n",
        "Saving patient "
       ]
      },
      {
       "output_type": "stream",
       "stream": "stdout",
       "text": [
        " 397918\n",
        "Saving patient "
       ]
      },
      {
       "output_type": "stream",
       "stream": "stdout",
       "text": [
        " 80315\n",
        "Saving patient "
       ]
      },
      {
       "output_type": "stream",
       "stream": "stdout",
       "text": [
        " 273592\n",
        "Saving patient "
       ]
      },
      {
       "output_type": "stream",
       "stream": "stdout",
       "text": [
        " 10421\n",
        "Saving patient "
       ]
      },
      {
       "output_type": "stream",
       "stream": "stdout",
       "text": [
        " 403306\n",
        "Saving patient "
       ]
      },
      {
       "output_type": "stream",
       "stream": "stdout",
       "text": [
        " 159188\n",
        "Saving patient "
       ]
      },
      {
       "output_type": "stream",
       "stream": "stdout",
       "text": [
        " 226649\n",
        "Saving patient "
       ]
      },
      {
       "output_type": "stream",
       "stream": "stdout",
       "text": [
        " 153693\n",
        "Saving patient "
       ]
      },
      {
       "output_type": "stream",
       "stream": "stdout",
       "text": [
        " 394462\n",
        "Saving patient "
       ]
      },
      {
       "output_type": "stream",
       "stream": "stdout",
       "text": [
        " 163738\n",
        "Saving patient "
       ]
      },
      {
       "output_type": "stream",
       "stream": "stdout",
       "text": [
        " 435863\n",
        "Saving patient "
       ]
      },
      {
       "output_type": "stream",
       "stream": "stdout",
       "text": [
        " 323318\n",
        "Saving patient "
       ]
      },
      {
       "output_type": "stream",
       "stream": "stdout",
       "text": [
        " 7168\n",
        "Saving patient "
       ]
      },
      {
       "output_type": "stream",
       "stream": "stdout",
       "text": [
        " 38217\n",
        "Saving patient "
       ]
      },
      {
       "output_type": "stream",
       "stream": "stdout",
       "text": [
        " 157489\n",
        "Saving patient "
       ]
      },
      {
       "output_type": "stream",
       "stream": "stdout",
       "text": [
        " 108018\n",
        "Saving patient "
       ]
      },
      {
       "output_type": "stream",
       "stream": "stdout",
       "text": [
        " 427659\n",
        "Saving patient "
       ]
      },
      {
       "output_type": "stream",
       "stream": "stdout",
       "text": [
        " 244443\n",
        "Saving patient "
       ]
      },
      {
       "output_type": "stream",
       "stream": "stdout",
       "text": [
        " 260719\n",
        "Saving patient "
       ]
      },
      {
       "output_type": "stream",
       "stream": "stdout",
       "text": [
        " 324956\n",
        "Saving patient "
       ]
      },
      {
       "output_type": "stream",
       "stream": "stdout",
       "text": [
        " 298495\n",
        "Saving patient "
       ]
      },
      {
       "output_type": "stream",
       "stream": "stdout",
       "text": [
        " 30757\n",
        "Saving patient "
       ]
      },
      {
       "output_type": "stream",
       "stream": "stdout",
       "text": [
        " 399883\n",
        "Saving patient "
       ]
      },
      {
       "output_type": "stream",
       "stream": "stdout",
       "text": [
        " 137349\n",
        "Saving patient "
       ]
      },
      {
       "output_type": "stream",
       "stream": "stdout",
       "text": [
        " 162875\n",
        "Saving patient "
       ]
      },
      {
       "output_type": "stream",
       "stream": "stdout",
       "text": [
        " 379231\n",
        "Saving patient "
       ]
      },
      {
       "output_type": "stream",
       "stream": "stdout",
       "text": [
        " 51244\n",
        "Saving patient "
       ]
      },
      {
       "output_type": "stream",
       "stream": "stdout",
       "text": [
        " 357735\n",
        "Saving patient "
       ]
      },
      {
       "output_type": "stream",
       "stream": "stdout",
       "text": [
        " 11927\n",
        "Saving patient "
       ]
      },
      {
       "output_type": "stream",
       "stream": "stdout",
       "text": [
        " 156188\n",
        "Saving patient "
       ]
      },
      {
       "output_type": "stream",
       "stream": "stdout",
       "text": [
        " 445583\n",
        "Saving patient "
       ]
      },
      {
       "output_type": "stream",
       "stream": "stdout",
       "text": [
        " 109026\n",
        "Saving patient "
       ]
      },
      {
       "output_type": "stream",
       "stream": "stdout",
       "text": [
        " 74068\n",
        "Saving patient "
       ]
      },
      {
       "output_type": "stream",
       "stream": "stdout",
       "text": [
        " 453904\n",
        "Saving patient "
       ]
      },
      {
       "output_type": "stream",
       "stream": "stdout",
       "text": [
        " 377838\n",
        "Saving patient "
       ]
      },
      {
       "output_type": "stream",
       "stream": "stdout",
       "text": [
        " 282232\n",
        "Saving patient "
       ]
      },
      {
       "output_type": "stream",
       "stream": "stdout",
       "text": [
        " 216814\n",
        "Saving patient "
       ]
      },
      {
       "output_type": "stream",
       "stream": "stdout",
       "text": [
        " 356158\n",
        "Saving patient "
       ]
      },
      {
       "output_type": "stream",
       "stream": "stdout",
       "text": [
        " 264995\n",
        "Saving patient "
       ]
      },
      {
       "output_type": "stream",
       "stream": "stdout",
       "text": [
        " 143572\n",
        "Saving patient "
       ]
      },
      {
       "output_type": "stream",
       "stream": "stdout",
       "text": [
        " 432305\n",
        "Saving patient "
       ]
      },
      {
       "output_type": "stream",
       "stream": "stdout",
       "text": [
        " 398716\n",
        "Saving patient "
       ]
      },
      {
       "output_type": "stream",
       "stream": "stdout",
       "text": [
        " 11880\n",
        "Saving patient "
       ]
      },
      {
       "output_type": "stream",
       "stream": "stdout",
       "text": [
        " 427940\n",
        "Saving patient "
       ]
      },
      {
       "output_type": "stream",
       "stream": "stdout",
       "text": [
        " 172012\n",
        "Saving patient "
       ]
      },
      {
       "output_type": "stream",
       "stream": "stdout",
       "text": [
        " 29075\n",
        "Saving patient "
       ]
      },
      {
       "output_type": "stream",
       "stream": "stdout",
       "text": [
        " 120427\n",
        "Saving patient "
       ]
      },
      {
       "output_type": "stream",
       "stream": "stdout",
       "text": [
        " 209964\n",
        "Saving patient "
       ]
      },
      {
       "output_type": "stream",
       "stream": "stdout",
       "text": [
        " 304123\n",
        "Saving patient "
       ]
      },
      {
       "output_type": "stream",
       "stream": "stdout",
       "text": [
        " 103195\n",
        "Saving patient "
       ]
      },
      {
       "output_type": "stream",
       "stream": "stdout",
       "text": [
        " 452374\n",
        "Saving patient "
       ]
      },
      {
       "output_type": "stream",
       "stream": "stdout",
       "text": [
        " 120683\n",
        "Saving patient "
       ]
      },
      {
       "output_type": "stream",
       "stream": "stdout",
       "text": [
        " 230553\n",
        "Saving patient "
       ]
      },
      {
       "output_type": "stream",
       "stream": "stdout",
       "text": [
        " 400514\n",
        "Saving patient "
       ]
      },
      {
       "output_type": "stream",
       "stream": "stdout",
       "text": [
        " 392668\n",
        "Saving patient "
       ]
      },
      {
       "output_type": "stream",
       "stream": "stdout",
       "text": [
        " 90110\n",
        "Saving patient "
       ]
      },
      {
       "output_type": "stream",
       "stream": "stdout",
       "text": [
        " 296172\n",
        "Saving patient "
       ]
      },
      {
       "output_type": "stream",
       "stream": "stdout",
       "text": [
        " 367892\n",
        "Saving patient "
       ]
      },
      {
       "output_type": "stream",
       "stream": "stdout",
       "text": [
        " 52826\n",
        "Saving patient "
       ]
      },
      {
       "output_type": "stream",
       "stream": "stdout",
       "text": [
        " 314635\n",
        "Saving patient "
       ]
      },
      {
       "output_type": "stream",
       "stream": "stdout",
       "text": [
        " 437568\n",
        "Saving patient "
       ]
      },
      {
       "output_type": "stream",
       "stream": "stdout",
       "text": [
        " 356881\n",
        "Saving patient "
       ]
      },
      {
       "output_type": "stream",
       "stream": "stdout",
       "text": [
        " 275231\n",
        "Saving patient "
       ]
      },
      {
       "output_type": "stream",
       "stream": "stdout",
       "text": [
        " 224768\n",
        "Saving patient "
       ]
      },
      {
       "output_type": "stream",
       "stream": "stdout",
       "text": [
        " 320740\n",
        "Saving patient "
       ]
      },
      {
       "output_type": "stream",
       "stream": "stdout",
       "text": [
        " 405844\n",
        "Saving patient "
       ]
      },
      {
       "output_type": "stream",
       "stream": "stdout",
       "text": [
        " 246706\n",
        "Saving patient "
       ]
      },
      {
       "output_type": "stream",
       "stream": "stdout",
       "text": [
        " 326139\n",
        "Saving patient "
       ]
      },
      {
       "output_type": "stream",
       "stream": "stdout",
       "text": [
        " 412190\n",
        "Saving patient "
       ]
      },
      {
       "output_type": "stream",
       "stream": "stdout",
       "text": [
        " 8771\n",
        "Saving patient "
       ]
      },
      {
       "output_type": "stream",
       "stream": "stdout",
       "text": [
        " 210098\n",
        "Saving patient "
       ]
      },
      {
       "output_type": "stream",
       "stream": "stdout",
       "text": [
        " 253389\n",
        "Saving patient "
       ]
      },
      {
       "output_type": "stream",
       "stream": "stdout",
       "text": [
        " 215800\n",
        "Saving patient "
       ]
      },
      {
       "output_type": "stream",
       "stream": "stdout",
       "text": [
        " 197203\n",
        "Saving patient "
       ]
      },
      {
       "output_type": "stream",
       "stream": "stdout",
       "text": [
        " 396026\n",
        "Saving patient "
       ]
      },
      {
       "output_type": "stream",
       "stream": "stdout",
       "text": [
        " 446300\n",
        "Saving patient "
       ]
      },
      {
       "output_type": "stream",
       "stream": "stdout",
       "text": [
        " 12414\n",
        "Saving patient "
       ]
      },
      {
       "output_type": "stream",
       "stream": "stdout",
       "text": [
        " 392609\n",
        "Saving patient "
       ]
      },
      {
       "output_type": "stream",
       "stream": "stdout",
       "text": [
        " 89743\n",
        "Saving patient "
       ]
      },
      {
       "output_type": "stream",
       "stream": "stdout",
       "text": [
        " 302097\n",
        "Saving patient "
       ]
      },
      {
       "output_type": "stream",
       "stream": "stdout",
       "text": [
        " 143448\n",
        "Saving patient "
       ]
      },
      {
       "output_type": "stream",
       "stream": "stdout",
       "text": [
        " 159021\n",
        "Saving patient "
       ]
      },
      {
       "output_type": "stream",
       "stream": "stdout",
       "text": [
        " 434892\n",
        "Saving patient "
       ]
      },
      {
       "output_type": "stream",
       "stream": "stdout",
       "text": [
        " 270042\n",
        "Saving patient "
       ]
      },
      {
       "output_type": "stream",
       "stream": "stdout",
       "text": [
        " 210087\n",
        "Saving patient "
       ]
      },
      {
       "output_type": "stream",
       "stream": "stdout",
       "text": [
        " 322205\n",
        "Saving patient "
       ]
      },
      {
       "output_type": "stream",
       "stream": "stdout",
       "text": [
        " 44484\n",
        "Saving patient "
       ]
      },
      {
       "output_type": "stream",
       "stream": "stdout",
       "text": [
        " 100479\n",
        "Saving patient "
       ]
      },
      {
       "output_type": "stream",
       "stream": "stdout",
       "text": [
        " 292630\n",
        "Saving patient "
       ]
      },
      {
       "output_type": "stream",
       "stream": "stdout",
       "text": [
        " 140373\n",
        "Saving patient "
       ]
      },
      {
       "output_type": "stream",
       "stream": "stdout",
       "text": [
        " 1404\n",
        "Saving patient "
       ]
      },
      {
       "output_type": "stream",
       "stream": "stdout",
       "text": [
        " 286158\n",
        "Saving patient "
       ]
      },
      {
       "output_type": "stream",
       "stream": "stdout",
       "text": [
        " 108809\n",
        "Saving patient "
       ]
      },
      {
       "output_type": "stream",
       "stream": "stdout",
       "text": [
        " 199840\n",
        "Saving patient "
       ]
      },
      {
       "output_type": "stream",
       "stream": "stdout",
       "text": [
        " 438753\n",
        "Saving patient "
       ]
      },
      {
       "output_type": "stream",
       "stream": "stdout",
       "text": [
        " 368860\n",
        "Saving patient "
       ]
      },
      {
       "output_type": "stream",
       "stream": "stdout",
       "text": [
        " 221894\n",
        "Saving patient "
       ]
      },
      {
       "output_type": "stream",
       "stream": "stdout",
       "text": [
        " 167339\n",
        "Saving patient "
       ]
      },
      {
       "output_type": "stream",
       "stream": "stdout",
       "text": [
        " 277301\n",
        "Saving patient "
       ]
      },
      {
       "output_type": "stream",
       "stream": "stdout",
       "text": [
        " 236798\n",
        "Saving patient "
       ]
      },
      {
       "output_type": "stream",
       "stream": "stdout",
       "text": [
        " 394031\n",
        "Saving patient "
       ]
      },
      {
       "output_type": "stream",
       "stream": "stdout",
       "text": [
        " 294765\n",
        "Saving patient "
       ]
      },
      {
       "output_type": "stream",
       "stream": "stdout",
       "text": [
        " 378383\n",
        "Saving patient "
       ]
      },
      {
       "output_type": "stream",
       "stream": "stdout",
       "text": [
        " 302039\n",
        "Saving patient "
       ]
      },
      {
       "output_type": "stream",
       "stream": "stdout",
       "text": [
        " 362679\n",
        "Saving patient "
       ]
      },
      {
       "output_type": "stream",
       "stream": "stdout",
       "text": [
        " 81910\n",
        "Saving patient "
       ]
      },
      {
       "output_type": "stream",
       "stream": "stdout",
       "text": [
        " 206638\n",
        "Saving patient "
       ]
      },
      {
       "output_type": "stream",
       "stream": "stdout",
       "text": [
        " 402394\n",
        "Saving patient "
       ]
      },
      {
       "output_type": "stream",
       "stream": "stdout",
       "text": [
        " 36843\n",
        "Saving patient "
       ]
      },
      {
       "output_type": "stream",
       "stream": "stdout",
       "text": [
        " 319394\n",
        "Saving patient "
       ]
      },
      {
       "output_type": "stream",
       "stream": "stdout",
       "text": [
        " 182639\n",
        "Saving patient "
       ]
      },
      {
       "output_type": "stream",
       "stream": "stdout",
       "text": [
        " 195385\n",
        "Saving patient "
       ]
      },
      {
       "output_type": "stream",
       "stream": "stdout",
       "text": [
        " 96393\n",
        "Saving patient "
       ]
      },
      {
       "output_type": "stream",
       "stream": "stdout",
       "text": [
        " 4740\n",
        "Saving patient "
       ]
      },
      {
       "output_type": "stream",
       "stream": "stdout",
       "text": [
        " 106164\n",
        "Saving patient "
       ]
      },
      {
       "output_type": "stream",
       "stream": "stdout",
       "text": [
        " 330041\n",
        "Saving patient "
       ]
      },
      {
       "output_type": "stream",
       "stream": "stdout",
       "text": [
        " 57654\n",
        "Saving patient "
       ]
      },
      {
       "output_type": "stream",
       "stream": "stdout",
       "text": [
        " 185527\n",
        "Saving patient "
       ]
      },
      {
       "output_type": "stream",
       "stream": "stdout",
       "text": [
        " 208633\n",
        "Saving patient "
       ]
      },
      {
       "output_type": "stream",
       "stream": "stdout",
       "text": [
        " 121185\n",
        "Saving patient "
       ]
      },
      {
       "output_type": "stream",
       "stream": "stdout",
       "text": [
        " 451394\n",
        "Saving patient "
       ]
      },
      {
       "output_type": "stream",
       "stream": "stdout",
       "text": [
        " 11870\n",
        "Saving patient "
       ]
      },
      {
       "output_type": "stream",
       "stream": "stdout",
       "text": [
        " 327251\n",
        "Saving patient "
       ]
      },
      {
       "output_type": "stream",
       "stream": "stdout",
       "text": [
        " 393215\n",
        "Saving patient "
       ]
      },
      {
       "output_type": "stream",
       "stream": "stdout",
       "text": [
        " 164253\n",
        "Saving patient "
       ]
      },
      {
       "output_type": "stream",
       "stream": "stdout",
       "text": [
        " 410196\n",
        "Saving patient "
       ]
      },
      {
       "output_type": "stream",
       "stream": "stdout",
       "text": [
        " 260771\n",
        "Saving patient "
       ]
      },
      {
       "output_type": "stream",
       "stream": "stdout",
       "text": [
        " 237960\n",
        "Saving patient "
       ]
      },
      {
       "output_type": "stream",
       "stream": "stdout",
       "text": [
        " 234873\n",
        "Saving patient "
       ]
      },
      {
       "output_type": "stream",
       "stream": "stdout",
       "text": [
        " 51444\n",
        "Saving patient "
       ]
      },
      {
       "output_type": "stream",
       "stream": "stdout",
       "text": [
        " 218081\n",
        "Saving patient "
       ]
      },
      {
       "output_type": "stream",
       "stream": "stdout",
       "text": [
        " 390232\n",
        "Saving patient "
       ]
      },
      {
       "output_type": "stream",
       "stream": "stdout",
       "text": [
        " 149415\n",
        "Saving patient "
       ]
      },
      {
       "output_type": "stream",
       "stream": "stdout",
       "text": [
        " 18009\n",
        "Saving patient "
       ]
      },
      {
       "output_type": "stream",
       "stream": "stdout",
       "text": [
        " 336993\n",
        "Saving patient "
       ]
      },
      {
       "output_type": "stream",
       "stream": "stdout",
       "text": [
        " 293888\n",
        "Saving patient "
       ]
      },
      {
       "output_type": "stream",
       "stream": "stdout",
       "text": [
        " 416692\n",
        "Saving patient "
       ]
      },
      {
       "output_type": "stream",
       "stream": "stdout",
       "text": [
        " 435357\n",
        "Saving patient "
       ]
      },
      {
       "output_type": "stream",
       "stream": "stdout",
       "text": [
        " 43883\n",
        "Saving patient "
       ]
      },
      {
       "output_type": "stream",
       "stream": "stdout",
       "text": [
        " 33970\n",
        "Saving patient "
       ]
      },
      {
       "output_type": "stream",
       "stream": "stdout",
       "text": [
        " 261067\n",
        "Saving patient "
       ]
      },
      {
       "output_type": "stream",
       "stream": "stdout",
       "text": [
        " 34908\n",
        "Saving patient "
       ]
      },
      {
       "output_type": "stream",
       "stream": "stdout",
       "text": [
        " 102168\n",
        "Saving patient "
       ]
      },
      {
       "output_type": "stream",
       "stream": "stdout",
       "text": [
        " 70355\n",
        "Saving patient "
       ]
      },
      {
       "output_type": "stream",
       "stream": "stdout",
       "text": [
        " 353149\n",
        "Saving patient "
       ]
      },
      {
       "output_type": "stream",
       "stream": "stdout",
       "text": [
        " 362960\n",
        "Saving patient "
       ]
      },
      {
       "output_type": "stream",
       "stream": "stdout",
       "text": [
        " 113745\n",
        "Saving patient "
       ]
      },
      {
       "output_type": "stream",
       "stream": "stdout",
       "text": [
        " 346156\n",
        "Saving patient "
       ]
      },
      {
       "output_type": "stream",
       "stream": "stdout",
       "text": [
        " 279621\n",
        "Saving patient "
       ]
      },
      {
       "output_type": "stream",
       "stream": "stdout",
       "text": [
        " 211974\n",
        "Saving patient "
       ]
      },
      {
       "output_type": "stream",
       "stream": "stdout",
       "text": [
        " 327643\n",
        "Saving patient "
       ]
      },
      {
       "output_type": "stream",
       "stream": "stdout",
       "text": [
        " 373803\n",
        "Saving patient "
       ]
      },
      {
       "output_type": "stream",
       "stream": "stdout",
       "text": [
        " 271842\n",
        "Saving patient "
       ]
      },
      {
       "output_type": "stream",
       "stream": "stdout",
       "text": [
        " 262093\n",
        "Saving patient "
       ]
      },
      {
       "output_type": "stream",
       "stream": "stdout",
       "text": [
        " 389308\n",
        "Saving patient "
       ]
      },
      {
       "output_type": "stream",
       "stream": "stdout",
       "text": [
        " 215140\n",
        "Saving patient "
       ]
      },
      {
       "output_type": "stream",
       "stream": "stdout",
       "text": [
        " 290220\n",
        "Saving patient "
       ]
      },
      {
       "output_type": "stream",
       "stream": "stdout",
       "text": [
        " 3752\n",
        "Saving patient "
       ]
      },
      {
       "output_type": "stream",
       "stream": "stdout",
       "text": [
        " 237420\n",
        "Saving patient "
       ]
      },
      {
       "output_type": "stream",
       "stream": "stdout",
       "text": [
        " 328121\n",
        "Saving patient "
       ]
      },
      {
       "output_type": "stream",
       "stream": "stdout",
       "text": [
        " 198555\n",
        "Saving patient "
       ]
      },
      {
       "output_type": "stream",
       "stream": "stdout",
       "text": [
        " 15941\n",
        "Saving patient "
       ]
      },
      {
       "output_type": "stream",
       "stream": "stdout",
       "text": [
        " 112786\n",
        "Saving patient "
       ]
      },
      {
       "output_type": "stream",
       "stream": "stdout",
       "text": [
        " 176019\n",
        "Saving patient "
       ]
      },
      {
       "output_type": "stream",
       "stream": "stdout",
       "text": [
        " 198258\n",
        "Saving patient "
       ]
      },
      {
       "output_type": "stream",
       "stream": "stdout",
       "text": [
        " 168552\n",
        "Saving patient "
       ]
      },
      {
       "output_type": "stream",
       "stream": "stdout",
       "text": [
        " 28695\n",
        "Saving patient "
       ]
      },
      {
       "output_type": "stream",
       "stream": "stdout",
       "text": [
        " 164278\n",
        "Saving patient "
       ]
      },
      {
       "output_type": "stream",
       "stream": "stdout",
       "text": [
        " 54493\n",
        "Saving patient "
       ]
      },
      {
       "output_type": "stream",
       "stream": "stdout",
       "text": [
        " 78578\n",
        "Saving patient "
       ]
      },
      {
       "output_type": "stream",
       "stream": "stdout",
       "text": [
        " 110735\n",
        "Saving patient "
       ]
      },
      {
       "output_type": "stream",
       "stream": "stdout",
       "text": [
        " 302380\n",
        "Saving patient "
       ]
      },
      {
       "output_type": "stream",
       "stream": "stdout",
       "text": [
        " 105575\n",
        "Saving patient "
       ]
      },
      {
       "output_type": "stream",
       "stream": "stdout",
       "text": [
        " 261025\n",
        "Saving patient "
       ]
      },
      {
       "output_type": "stream",
       "stream": "stdout",
       "text": [
        " 160650\n",
        "Saving patient "
       ]
      },
      {
       "output_type": "stream",
       "stream": "stdout",
       "text": [
        " 62776\n",
        "Saving patient "
       ]
      },
      {
       "output_type": "stream",
       "stream": "stdout",
       "text": [
        " 58876\n",
        "Saving patient "
       ]
      },
      {
       "output_type": "stream",
       "stream": "stdout",
       "text": [
        " 269412\n",
        "Saving patient "
       ]
      },
      {
       "output_type": "stream",
       "stream": "stdout",
       "text": [
        " 388218\n",
        "Saving patient "
       ]
      },
      {
       "output_type": "stream",
       "stream": "stdout",
       "text": [
        " 166707\n",
        "Saving patient "
       ]
      },
      {
       "output_type": "stream",
       "stream": "stdout",
       "text": [
        " 91111\n",
        "Saving patient "
       ]
      },
      {
       "output_type": "stream",
       "stream": "stdout",
       "text": [
        " 144292\n",
        "Saving patient "
       ]
      },
      {
       "output_type": "stream",
       "stream": "stdout",
       "text": [
        " 108360\n",
        "Saving patient "
       ]
      },
      {
       "output_type": "stream",
       "stream": "stdout",
       "text": [
        " 194028\n",
        "Saving patient "
       ]
      },
      {
       "output_type": "stream",
       "stream": "stdout",
       "text": [
        " 392419\n",
        "Saving patient "
       ]
      },
      {
       "output_type": "stream",
       "stream": "stdout",
       "text": [
        " 337592\n",
        "Saving patient "
       ]
      },
      {
       "output_type": "stream",
       "stream": "stdout",
       "text": [
        " 125244\n",
        "Saving patient "
       ]
      },
      {
       "output_type": "stream",
       "stream": "stdout",
       "text": [
        " 124647\n",
        "Saving patient "
       ]
      },
      {
       "output_type": "stream",
       "stream": "stdout",
       "text": [
        " 131872\n",
        "Saving patient "
       ]
      },
      {
       "output_type": "stream",
       "stream": "stdout",
       "text": [
        " 332608\n",
        "Saving patient "
       ]
      },
      {
       "output_type": "stream",
       "stream": "stdout",
       "text": [
        " 58540\n",
        "Saving patient "
       ]
      },
      {
       "output_type": "stream",
       "stream": "stdout",
       "text": [
        " 152567\n",
        "Saving patient "
       ]
      },
      {
       "output_type": "stream",
       "stream": "stdout",
       "text": [
        " 211772\n",
        "Saving patient "
       ]
      },
      {
       "output_type": "stream",
       "stream": "stdout",
       "text": [
        " 270274\n",
        "Saving patient "
       ]
      },
      {
       "output_type": "stream",
       "stream": "stdout",
       "text": [
        " 101771\n",
        "Saving patient "
       ]
      },
      {
       "output_type": "stream",
       "stream": "stdout",
       "text": [
        " 38727\n",
        "Saving patient "
       ]
      },
      {
       "output_type": "stream",
       "stream": "stdout",
       "text": [
        " 282664\n",
        "Saving patient "
       ]
      },
      {
       "output_type": "stream",
       "stream": "stdout",
       "text": [
        " 299374\n",
        "Saving patient "
       ]
      },
      {
       "output_type": "stream",
       "stream": "stdout",
       "text": [
        " 133947\n",
        "Saving patient "
       ]
      },
      {
       "output_type": "stream",
       "stream": "stdout",
       "text": [
        " 137894\n",
        "Saving patient "
       ]
      },
      {
       "output_type": "stream",
       "stream": "stdout",
       "text": [
        " 382818\n",
        "Saving patient "
       ]
      },
      {
       "output_type": "stream",
       "stream": "stdout",
       "text": [
        " 173461\n",
        "Saving patient "
       ]
      },
      {
       "output_type": "stream",
       "stream": "stdout",
       "text": [
        " 54312\n",
        "Saving patient "
       ]
      },
      {
       "output_type": "stream",
       "stream": "stdout",
       "text": [
        " 410372\n",
        "Saving patient "
       ]
      },
      {
       "output_type": "stream",
       "stream": "stdout",
       "text": [
        " 73692\n",
        "Saving patient "
       ]
      },
      {
       "output_type": "stream",
       "stream": "stdout",
       "text": [
        " 37985\n",
        "Saving patient "
       ]
      },
      {
       "output_type": "stream",
       "stream": "stdout",
       "text": [
        " 19173\n",
        "Saving patient "
       ]
      },
      {
       "output_type": "stream",
       "stream": "stdout",
       "text": [
        " 56887\n",
        "Saving patient "
       ]
      },
      {
       "output_type": "stream",
       "stream": "stdout",
       "text": [
        " 269614\n",
        "Saving patient "
       ]
      },
      {
       "output_type": "stream",
       "stream": "stdout",
       "text": [
        " 291497\n",
        "Saving patient "
       ]
      },
      {
       "output_type": "stream",
       "stream": "stdout",
       "text": [
        " 307350\n",
        "Saving patient "
       ]
      },
      {
       "output_type": "stream",
       "stream": "stdout",
       "text": [
        " 140703\n",
        "Saving patient "
       ]
      },
      {
       "output_type": "stream",
       "stream": "stdout",
       "text": [
        " 213434\n",
        "Saving patient "
       ]
      },
      {
       "output_type": "stream",
       "stream": "stdout",
       "text": [
        " 409206\n",
        "Saving patient "
       ]
      },
      {
       "output_type": "stream",
       "stream": "stdout",
       "text": [
        " 14887\n",
        "Saving patient "
       ]
      },
      {
       "output_type": "stream",
       "stream": "stdout",
       "text": [
        " 270457\n",
        "Saving patient "
       ]
      },
      {
       "output_type": "stream",
       "stream": "stdout",
       "text": [
        " 185038\n",
        "Saving patient "
       ]
      },
      {
       "output_type": "stream",
       "stream": "stdout",
       "text": [
        " 403920\n",
        "Saving patient "
       ]
      },
      {
       "output_type": "stream",
       "stream": "stdout",
       "text": [
        " 106970\n",
        "Saving patient "
       ]
      },
      {
       "output_type": "stream",
       "stream": "stdout",
       "text": [
        " 15891\n",
        "Saving patient "
       ]
      },
      {
       "output_type": "stream",
       "stream": "stdout",
       "text": [
        " 160638\n",
        "Saving patient "
       ]
      },
      {
       "output_type": "stream",
       "stream": "stdout",
       "text": [
        " 31706\n",
        "Saving patient "
       ]
      },
      {
       "output_type": "stream",
       "stream": "stdout",
       "text": [
        " 275550\n",
        "Saving patient "
       ]
      },
      {
       "output_type": "stream",
       "stream": "stdout",
       "text": [
        " 245506\n",
        "Saving patient "
       ]
      },
      {
       "output_type": "stream",
       "stream": "stdout",
       "text": [
        " 301565\n",
        "Saving patient "
       ]
      },
      {
       "output_type": "stream",
       "stream": "stdout",
       "text": [
        " 327969\n",
        "Saving patient "
       ]
      },
      {
       "output_type": "stream",
       "stream": "stdout",
       "text": [
        " 176847\n",
        "Saving patient "
       ]
      },
      {
       "output_type": "stream",
       "stream": "stdout",
       "text": [
        " 38122\n",
        "Saving patient "
       ]
      },
      {
       "output_type": "stream",
       "stream": "stdout",
       "text": [
        " 136461\n",
        "Saving patient "
       ]
      },
      {
       "output_type": "stream",
       "stream": "stdout",
       "text": [
        " 333677\n",
        "Saving patient "
       ]
      },
      {
       "output_type": "stream",
       "stream": "stdout",
       "text": [
        " 224716\n",
        "Saving patient "
       ]
      },
      {
       "output_type": "stream",
       "stream": "stdout",
       "text": [
        " 11340\n",
        "Saving patient "
       ]
      },
      {
       "output_type": "stream",
       "stream": "stdout",
       "text": [
        " 109308\n",
        "Saving patient "
       ]
      },
      {
       "output_type": "stream",
       "stream": "stdout",
       "text": [
        " 197921\n",
        "Saving patient "
       ]
      },
      {
       "output_type": "stream",
       "stream": "stdout",
       "text": [
        " 70818\n",
        "Saving patient "
       ]
      },
      {
       "output_type": "stream",
       "stream": "stdout",
       "text": [
        " 162140\n",
        "Saving patient "
       ]
      },
      {
       "output_type": "stream",
       "stream": "stdout",
       "text": [
        " 181296\n",
        "Saving patient "
       ]
      },
      {
       "output_type": "stream",
       "stream": "stdout",
       "text": [
        " 76382\n",
        "Saving patient "
       ]
      },
      {
       "output_type": "stream",
       "stream": "stdout",
       "text": [
        " 310451\n",
        "Saving patient "
       ]
      },
      {
       "output_type": "stream",
       "stream": "stdout",
       "text": [
        " 222439\n",
        "Saving patient "
       ]
      },
      {
       "output_type": "stream",
       "stream": "stdout",
       "text": [
        " 252782\n",
        "Saving patient "
       ]
      },
      {
       "output_type": "stream",
       "stream": "stdout",
       "text": [
        " 238869\n",
        "Saving patient "
       ]
      },
      {
       "output_type": "stream",
       "stream": "stdout",
       "text": [
        " 114896\n",
        "Saving patient "
       ]
      },
      {
       "output_type": "stream",
       "stream": "stdout",
       "text": [
        " 226252\n",
        "Saving patient "
       ]
      },
      {
       "output_type": "stream",
       "stream": "stdout",
       "text": [
        " 155616\n",
        "Saving patient "
       ]
      },
      {
       "output_type": "stream",
       "stream": "stdout",
       "text": [
        " 342106\n",
        "Saving patient "
       ]
      },
      {
       "output_type": "stream",
       "stream": "stdout",
       "text": [
        " 327537\n",
        "Saving patient "
       ]
      },
      {
       "output_type": "stream",
       "stream": "stdout",
       "text": [
        " 297693\n",
        "Saving patient "
       ]
      },
      {
       "output_type": "stream",
       "stream": "stdout",
       "text": [
        " 146039\n",
        "Saving patient "
       ]
      },
      {
       "output_type": "stream",
       "stream": "stdout",
       "text": [
        " 149997\n",
        "Saving patient "
       ]
      },
      {
       "output_type": "stream",
       "stream": "stdout",
       "text": [
        " 407746\n",
        "Saving patient "
       ]
      },
      {
       "output_type": "stream",
       "stream": "stdout",
       "text": [
        " 141472\n",
        "Saving patient "
       ]
      },
      {
       "output_type": "stream",
       "stream": "stdout",
       "text": [
        " 444924\n",
        "Saving patient "
       ]
      },
      {
       "output_type": "stream",
       "stream": "stdout",
       "text": [
        " 220322\n",
        "Saving patient "
       ]
      },
      {
       "output_type": "stream",
       "stream": "stdout",
       "text": [
        " 252022\n",
        "Saving patient "
       ]
      },
      {
       "output_type": "stream",
       "stream": "stdout",
       "text": [
        " 320139\n",
        "Saving patient "
       ]
      },
      {
       "output_type": "stream",
       "stream": "stdout",
       "text": [
        " 446139\n",
        "Saving patient "
       ]
      },
      {
       "output_type": "stream",
       "stream": "stdout",
       "text": [
        " 239103\n",
        "Saving patient "
       ]
      },
      {
       "output_type": "stream",
       "stream": "stdout",
       "text": [
        " 262877\n",
        "Saving patient "
       ]
      },
      {
       "output_type": "stream",
       "stream": "stdout",
       "text": [
        " 35629\n",
        "Saving patient "
       ]
      },
      {
       "output_type": "stream",
       "stream": "stdout",
       "text": [
        " 159457\n",
        "Saving patient "
       ]
      },
      {
       "output_type": "stream",
       "stream": "stdout",
       "text": [
        " 151361\n",
        "Saving patient "
       ]
      },
      {
       "output_type": "stream",
       "stream": "stdout",
       "text": [
        " 392073\n",
        "Saving patient "
       ]
      },
      {
       "output_type": "stream",
       "stream": "stdout",
       "text": [
        " 416401\n",
        "Saving patient "
       ]
      },
      {
       "output_type": "stream",
       "stream": "stdout",
       "text": [
        " 94336\n",
        "Saving patient "
       ]
      },
      {
       "output_type": "stream",
       "stream": "stdout",
       "text": [
        " 165151\n",
        "Saving patient "
       ]
      },
      {
       "output_type": "stream",
       "stream": "stdout",
       "text": [
        " 149899\n",
        "Saving patient "
       ]
      },
      {
       "output_type": "stream",
       "stream": "stdout",
       "text": [
        " 336954\n",
        "Saving patient "
       ]
      },
      {
       "output_type": "stream",
       "stream": "stdout",
       "text": [
        " 293580\n",
        "Saving patient "
       ]
      },
      {
       "output_type": "stream",
       "stream": "stdout",
       "text": [
        " 264949\n",
        "Saving patient "
       ]
      },
      {
       "output_type": "stream",
       "stream": "stdout",
       "text": [
        " 309718\n",
        "Saving patient "
       ]
      },
      {
       "output_type": "stream",
       "stream": "stdout",
       "text": [
        " 7381\n",
        "Saving patient "
       ]
      },
      {
       "output_type": "stream",
       "stream": "stdout",
       "text": [
        " 206996\n",
        "Saving patient "
       ]
      },
      {
       "output_type": "stream",
       "stream": "stdout",
       "text": [
        " 269487\n",
        "Saving patient "
       ]
      },
      {
       "output_type": "stream",
       "stream": "stdout",
       "text": [
        " 317355\n",
        "Saving patient "
       ]
      },
      {
       "output_type": "stream",
       "stream": "stdout",
       "text": [
        " 143257\n",
        "Saving patient "
       ]
      },
      {
       "output_type": "stream",
       "stream": "stdout",
       "text": [
        " 116635\n",
        "Saving patient "
       ]
      },
      {
       "output_type": "stream",
       "stream": "stdout",
       "text": [
        " 184326\n",
        "Saving patient "
       ]
      },
      {
       "output_type": "stream",
       "stream": "stdout",
       "text": [
        " 367531\n",
        "Saving patient "
       ]
      },
      {
       "output_type": "stream",
       "stream": "stdout",
       "text": [
        " 111371\n",
        "Saving patient "
       ]
      },
      {
       "output_type": "stream",
       "stream": "stdout",
       "text": [
        " 15872\n",
        "Saving patient "
       ]
      },
      {
       "output_type": "stream",
       "stream": "stdout",
       "text": [
        " 223055\n",
        "Saving patient "
       ]
      },
      {
       "output_type": "stream",
       "stream": "stdout",
       "text": [
        " 424549\n",
        "Saving patient "
       ]
      },
      {
       "output_type": "stream",
       "stream": "stdout",
       "text": [
        " 271924\n",
        "Saving patient "
       ]
      },
      {
       "output_type": "stream",
       "stream": "stdout",
       "text": [
        " 109159\n",
        "Saving patient "
       ]
      },
      {
       "output_type": "stream",
       "stream": "stdout",
       "text": [
        " 331850\n",
        "Saving patient "
       ]
      },
      {
       "output_type": "stream",
       "stream": "stdout",
       "text": [
        " 147513\n",
        "Saving patient "
       ]
      },
      {
       "output_type": "stream",
       "stream": "stdout",
       "text": [
        " 190712\n",
        "Saving patient "
       ]
      },
      {
       "output_type": "stream",
       "stream": "stdout",
       "text": [
        " 361339\n",
        "Saving patient "
       ]
      },
      {
       "output_type": "stream",
       "stream": "stdout",
       "text": [
        " 305544\n",
        "Saving patient "
       ]
      },
      {
       "output_type": "stream",
       "stream": "stdout",
       "text": [
        " 9199\n",
        "Saving patient "
       ]
      },
      {
       "output_type": "stream",
       "stream": "stdout",
       "text": [
        " 133376\n",
        "Saving patient "
       ]
      },
      {
       "output_type": "stream",
       "stream": "stdout",
       "text": [
        " 247429\n",
        "Saving patient "
       ]
      },
      {
       "output_type": "stream",
       "stream": "stdout",
       "text": [
        " 135744\n",
        "Saving patient "
       ]
      },
      {
       "output_type": "stream",
       "stream": "stdout",
       "text": [
        " 423616\n",
        "Saving patient "
       ]
      },
      {
       "output_type": "stream",
       "stream": "stdout",
       "text": [
        " 216472\n",
        "Saving patient "
       ]
      },
      {
       "output_type": "stream",
       "stream": "stdout",
       "text": [
        " 12366\n",
        "Saving patient "
       ]
      },
      {
       "output_type": "stream",
       "stream": "stdout",
       "text": [
        " 133363\n",
        "Saving patient "
       ]
      },
      {
       "output_type": "stream",
       "stream": "stdout",
       "text": [
        " 451676\n",
        "Saving patient "
       ]
      },
      {
       "output_type": "stream",
       "stream": "stdout",
       "text": [
        " 406817\n",
        "Saving patient "
       ]
      },
      {
       "output_type": "stream",
       "stream": "stdout",
       "text": [
        " 49122\n",
        "Saving patient "
       ]
      },
      {
       "output_type": "stream",
       "stream": "stdout",
       "text": [
        " 157445\n",
        "Saving patient "
       ]
      },
      {
       "output_type": "stream",
       "stream": "stdout",
       "text": [
        " 89332\n",
        "Saving patient "
       ]
      },
      {
       "output_type": "stream",
       "stream": "stdout",
       "text": [
        " 353250\n",
        "Saving patient "
       ]
      },
      {
       "output_type": "stream",
       "stream": "stdout",
       "text": [
        " 431948\n",
        "Saving patient "
       ]
      },
      {
       "output_type": "stream",
       "stream": "stdout",
       "text": [
        " 249992\n",
        "Saving patient "
       ]
      },
      {
       "output_type": "stream",
       "stream": "stdout",
       "text": [
        " 163114\n",
        "Saving patient "
       ]
      },
      {
       "output_type": "stream",
       "stream": "stdout",
       "text": [
        " 61129\n",
        "Saving patient "
       ]
      },
      {
       "output_type": "stream",
       "stream": "stdout",
       "text": [
        " 172867\n",
        "Saving patient "
       ]
      },
      {
       "output_type": "stream",
       "stream": "stdout",
       "text": [
        " 23318\n",
        "Saving patient "
       ]
      },
      {
       "output_type": "stream",
       "stream": "stdout",
       "text": [
        " 242558\n",
        "Saving patient "
       ]
      },
      {
       "output_type": "stream",
       "stream": "stdout",
       "text": [
        " 38905\n",
        "Saving patient "
       ]
      },
      {
       "output_type": "stream",
       "stream": "stdout",
       "text": [
        " 11753\n",
        "Saving patient "
       ]
      },
      {
       "output_type": "stream",
       "stream": "stdout",
       "text": [
        " 347276\n",
        "Saving patient "
       ]
      },
      {
       "output_type": "stream",
       "stream": "stdout",
       "text": [
        " 36683\n",
        "Saving patient "
       ]
      },
      {
       "output_type": "stream",
       "stream": "stdout",
       "text": [
        " 73381\n",
        "Saving patient "
       ]
      },
      {
       "output_type": "stream",
       "stream": "stdout",
       "text": [
        " 382967\n",
        "Saving patient "
       ]
      },
      {
       "output_type": "stream",
       "stream": "stdout",
       "text": [
        " 264717\n",
        "Saving patient "
       ]
      },
      {
       "output_type": "stream",
       "stream": "stdout",
       "text": [
        " 393259\n",
        "Saving patient "
       ]
      }
     ],
     "prompt_number": "*"
    },
    {
     "cell_type": "code",
     "collapsed": false,
     "input": [],
     "language": "python",
     "metadata": {},
     "outputs": []
    }
   ],
   "metadata": {}
  }
 ]
}